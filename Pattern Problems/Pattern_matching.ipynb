{
  "nbformat": 4,
  "nbformat_minor": 0,
  "metadata": {
    "colab": {
      "provenance": []
    },
    "kernelspec": {
      "name": "python3",
      "display_name": "Python 3"
    },
    "language_info": {
      "name": "python"
    }
  },
  "cells": [
    {
      "cell_type": "markdown",
      "source": [
        "### Pattern Matching Problems"
      ],
      "metadata": {
        "id": "evpF7M-2SB6u"
      }
    },
    {
      "cell_type": "markdown",
      "source": [
        "1. Write the Python code to print the pattern\n",
        "\n",
        "            1  \n",
        "            2 2  \n",
        "            3 3 3  \n",
        "            4 4 4 4  \n",
        "            5 5 5 5 5"
      ],
      "metadata": {
        "id": "zAae-ftDS9Dj"
      }
    },
    {
      "cell_type": "code",
      "source": [
        "for i in range(1,6):\n",
        "  for j in range(i):\n",
        "    print(i, end = \" \")\n",
        "\n",
        "  print()"
      ],
      "metadata": {
        "colab": {
          "base_uri": "https://localhost:8080/"
        },
        "id": "riF-rmcUTLZH",
        "outputId": "9bbc9955-5896-426e-a758-a546f36d4f59"
      },
      "execution_count": 1,
      "outputs": [
        {
          "output_type": "stream",
          "name": "stdout",
          "text": [
            "1 \n",
            "2 2 \n",
            "3 3 3 \n",
            "4 4 4 4 \n",
            "5 5 5 5 5 \n"
          ]
        }
      ]
    },
    {
      "cell_type": "markdown",
      "source": [
        "2. Write the Python code to print the pattern\n",
        "\n",
        "        1\n",
        "\n",
        "        1 2\n",
        "\n",
        "        1 2 3\n",
        "\n",
        "        1 2 3 4\n",
        "\n",
        "        1 2 3 4 5\n"
      ],
      "metadata": {
        "id": "mkuTFr4LTcTH"
      }
    },
    {
      "cell_type": "code",
      "source": [
        "for i in range(1,6):\n",
        "  for j in range(1, i+1):\n",
        "    print(j, end = \" \")\n",
        "\n",
        "  print()"
      ],
      "metadata": {
        "colab": {
          "base_uri": "https://localhost:8080/"
        },
        "id": "ndmyZ_TjTebD",
        "outputId": "656f8b21-3010-4030-ebef-44b7df3f05d9"
      },
      "execution_count": 3,
      "outputs": [
        {
          "output_type": "stream",
          "name": "stdout",
          "text": [
            "1 \n",
            "1 2 \n",
            "1 2 3 \n",
            "1 2 3 4 \n",
            "1 2 3 4 5 \n"
          ]
        }
      ]
    },
    {
      "cell_type": "markdown",
      "source": [
        "3. Write the Python code to print the pattern\n",
        "\n",
        "        1 1 1 1 1\n",
        "\n",
        "        2 2 2 2\n",
        "\n",
        "        3 3 3\n",
        "\n",
        "        4 4\n",
        "          \n",
        "        5"
      ],
      "metadata": {
        "id": "PTpFHei3Ua21"
      }
    },
    {
      "cell_type": "code",
      "source": [
        "for i in range(1, 6):\n",
        "  for j in range(6-i):\n",
        "    print(i, end=\" \")\n",
        "  print()"
      ],
      "metadata": {
        "colab": {
          "base_uri": "https://localhost:8080/"
        },
        "id": "a1ALHBXgUz1L",
        "outputId": "7e7598a3-dc8d-4b17-9719-433972c442aa"
      },
      "execution_count": 5,
      "outputs": [
        {
          "output_type": "stream",
          "name": "stdout",
          "text": [
            "1 1 1 1 1 \n",
            "2 2 2 2 \n",
            "3 3 3 \n",
            "4 4 \n",
            "5 \n"
          ]
        }
      ]
    },
    {
      "cell_type": "markdown",
      "source": [
        "4. Write the Python code to print the pattern\n",
        "\n",
        "        5 5 5 5 5\n",
        "\n",
        "        5 5 5 5\n",
        "\n",
        "        5 5 5\n",
        "\n",
        "        5 5\n",
        "\n",
        "        5"
      ],
      "metadata": {
        "id": "BDGD_eMfVEi0"
      }
    },
    {
      "cell_type": "code",
      "source": [
        "for i in range(5, 0, -1):\n",
        "  for j in range(0, i):\n",
        "    print('5', end=\" \")\n",
        "  print()"
      ],
      "metadata": {
        "colab": {
          "base_uri": "https://localhost:8080/"
        },
        "id": "t0-YHAqDVS-v",
        "outputId": "907a7a10-3665-4a3f-9068-28e46aae0aa3"
      },
      "execution_count": 9,
      "outputs": [
        {
          "output_type": "stream",
          "name": "stdout",
          "text": [
            "5 5 5 5 5 \n",
            "5 5 5 5 \n",
            "5 5 5 \n",
            "5 5 \n",
            "5 \n"
          ]
        }
      ]
    },
    {
      "cell_type": "markdown",
      "source": [
        "5. Write the Python code to print the pattern\n",
        "\n",
        "        0 1 2 3 4 5\n",
        "\n",
        "        0 1 2 3 4\n",
        "\n",
        "        0 1 2 3\n",
        "\n",
        "        0 1 2\n",
        "        \n",
        "        0 1"
      ],
      "metadata": {
        "id": "ER8CsE0qVWUC"
      }
    },
    {
      "cell_type": "code",
      "source": [
        "for i in range(5, 0, -1):\n",
        "  for j in range(0, i+1):\n",
        "    print(j, end=\" \")\n",
        "\n",
        "  print()"
      ],
      "metadata": {
        "colab": {
          "base_uri": "https://localhost:8080/"
        },
        "id": "yf8KAMXzWxEh",
        "outputId": "a28620ed-8424-45a9-bee7-ae1700624747"
      },
      "execution_count": 12,
      "outputs": [
        {
          "output_type": "stream",
          "name": "stdout",
          "text": [
            "0 1 2 3 4 5 \n",
            "0 1 2 3 4 \n",
            "0 1 2 3 \n",
            "0 1 2 \n",
            "0 1 \n"
          ]
        }
      ]
    },
    {
      "cell_type": "markdown",
      "source": [
        "6. Write the Python code to print the pattern\n",
        "\n",
        "        1\n",
        "\n",
        "        3 3\n",
        "\n",
        "        5 5 5\n",
        "\n",
        "        7 7 7 7\n",
        "        \n",
        "        9 9 9 9 9"
      ],
      "metadata": {
        "id": "VLdCkkbdVXa1"
      }
    },
    {
      "cell_type": "code",
      "source": [
        "num = 1\n",
        "\n",
        "for i in range(1, 6):\n",
        "  for j in range(i):\n",
        "    print(num, end = \"\")\n",
        "\n",
        "  print()\n",
        "  num=num+2"
      ],
      "metadata": {
        "colab": {
          "base_uri": "https://localhost:8080/"
        },
        "id": "R0XFOVXKXOAB",
        "outputId": "1502543e-06f6-44eb-d42e-a138201efa42"
      },
      "execution_count": 14,
      "outputs": [
        {
          "output_type": "stream",
          "name": "stdout",
          "text": [
            "1\n",
            "33\n",
            "555\n",
            "7777\n",
            "99999\n"
          ]
        }
      ]
    },
    {
      "cell_type": "markdown",
      "source": [
        "7. Write the Python code to print the pattern\n",
        "\n",
        "        5 5 5 5 5\n",
        "\n",
        "        4 4 4 4\n",
        "\n",
        "        3 3 3\n",
        "\n",
        "        2 2\n",
        "\n",
        "        1\n",
        ""
      ],
      "metadata": {
        "id": "VDdWFgN4VYMe"
      }
    },
    {
      "cell_type": "code",
      "source": [
        "for i in range(5, 0, -1):\n",
        "  for j in range(0, i):\n",
        "    print(i, end=\" \")\n",
        "\n",
        "  print()"
      ],
      "metadata": {
        "colab": {
          "base_uri": "https://localhost:8080/"
        },
        "id": "Ff-yz0ahYQ6L",
        "outputId": "65930675-4eb3-4bad-fc89-7eed18b79c74"
      },
      "execution_count": 16,
      "outputs": [
        {
          "output_type": "stream",
          "name": "stdout",
          "text": [
            "5 5 5 5 5 \n",
            "4 4 4 4 \n",
            "3 3 3 \n",
            "2 2 \n",
            "1 \n"
          ]
        }
      ]
    },
    {
      "cell_type": "markdown",
      "source": [
        "8. Write the Python code to print the pattern\n",
        "\n",
        "          1\n",
        "\n",
        "          2 1\n",
        "\n",
        "          3 2 1\n",
        "\n",
        "          4 3 2 1\n",
        "          \n",
        "          5 4 3 2 1"
      ],
      "metadata": {
        "id": "vWHdU-tCVYyD"
      }
    },
    {
      "cell_type": "code",
      "source": [
        "for i in range(1, 6):\n",
        "    for j in range(i, 0, -1):\n",
        "        print(j, end=' ')\n",
        "    print()"
      ],
      "metadata": {
        "colab": {
          "base_uri": "https://localhost:8080/"
        },
        "id": "urtL1IosY3ds",
        "outputId": "9f069b50-0625-44eb-a279-08909e979b48"
      },
      "execution_count": 18,
      "outputs": [
        {
          "output_type": "stream",
          "name": "stdout",
          "text": [
            "1 \n",
            "2 1 \n",
            "3 2 1 \n",
            "4 3 2 1 \n",
            "5 4 3 2 1 \n"
          ]
        }
      ]
    },
    {
      "cell_type": "markdown",
      "source": [
        "9. Write the Python code to print the pattern\n",
        "\n",
        "        5 4 3 2 1\n",
        "\n",
        "        4 3 2 1\n",
        "\n",
        "        3 2 1\n",
        "\n",
        "        2 1\n",
        "\n",
        "        1"
      ],
      "metadata": {
        "id": "yexoT2zmeeNf"
      }
    },
    {
      "cell_type": "code",
      "source": [
        "for i in range(5, 0, -1):\n",
        "  for j in range(i, 0, -1):\n",
        "    print(j, end=\" \")\n",
        "\n",
        "  print()"
      ],
      "metadata": {
        "colab": {
          "base_uri": "https://localhost:8080/"
        },
        "id": "pwFmq7wxexIS",
        "outputId": "a263f272-425c-4de6-cda9-1596ceebdeef"
      },
      "execution_count": 20,
      "outputs": [
        {
          "output_type": "stream",
          "name": "stdout",
          "text": [
            "5 4 3 2 1 \n",
            "4 3 2 1 \n",
            "3 2 1 \n",
            "2 1 \n",
            "1 \n"
          ]
        }
      ]
    },
    {
      "cell_type": "markdown",
      "source": [
        "10. Write the Python code to print the pattern\n",
        "\n",
        "        1\n",
        "\n",
        "        3 2\n",
        "\n",
        "        6 5 4\n",
        "\n",
        "        10 9 8 7"
      ],
      "metadata": {
        "id": "G_Du1JB-eg1S"
      }
    },
    {
      "cell_type": "code",
      "source": [
        "rows = 4\n",
        "num = 1\n",
        "\n",
        "for i in range(1, rows + 1):\n",
        "    start = i * (i + 1) // 2\n",
        "    for j in range(start, start - i, -1):\n",
        "        print(j, end=\" \")\n",
        "    print()\n"
      ],
      "metadata": {
        "colab": {
          "base_uri": "https://localhost:8080/"
        },
        "id": "oktaPugKf6Eo",
        "outputId": "fe9e33bf-a7f4-42b0-8026-11468f3dfd4d"
      },
      "execution_count": 40,
      "outputs": [
        {
          "output_type": "stream",
          "name": "stdout",
          "text": [
            "1 \n",
            "3 2 \n",
            "6 5 4 \n",
            "10 9 8 7 \n"
          ]
        }
      ]
    },
    {
      "cell_type": "markdown",
      "source": [
        "11. Write the Python code to print the pattern\n",
        "\n",
        "                1\n",
        "\n",
        "              1 2\n",
        "\n",
        "            1 2 3\n",
        "\n",
        "          1 2 3 4\n",
        "\n",
        "        1 2 3 4 5\n"
      ],
      "metadata": {
        "id": "dl_uAyZQehg9"
      }
    },
    {
      "cell_type": "code",
      "source": [
        "rows = 5\n",
        "\n",
        "for i in range(1, rows + 1):\n",
        "    print(\"  \" * (rows - i), end=\"\")\n",
        "    for j in range(1, i + 1):\n",
        "        print(j, end=\" \")\n",
        "    print()\n"
      ],
      "metadata": {
        "colab": {
          "base_uri": "https://localhost:8080/"
        },
        "id": "7-EM6Xw7gKRZ",
        "outputId": "a0d9d1a5-99d0-46c9-a532-2d6075de93fa"
      },
      "execution_count": 39,
      "outputs": [
        {
          "output_type": "stream",
          "name": "stdout",
          "text": [
            "        1 \n",
            "      1 2 \n",
            "    1 2 3 \n",
            "  1 2 3 4 \n",
            "1 2 3 4 5 \n"
          ]
        }
      ]
    },
    {
      "cell_type": "markdown",
      "source": [
        "12. Write the Python code to print the pattern\n",
        "\n",
        "        1\n",
        "\n",
        "        1 1\n",
        "\n",
        "        1 2 1\n",
        "\n",
        "        1 3 3 1\n",
        "\n",
        "        1 4 6 4 1\n",
        "\n",
        "        1 5 10 10 5 1\n",
        "        \n",
        "        1 6 15 20 15 6 1"
      ],
      "metadata": {
        "id": "WDDEDK4_eiRZ"
      }
    },
    {
      "cell_type": "code",
      "source": [
        "rows = 7\n",
        "\n",
        "for i in range(rows):\n",
        "    num = 1\n",
        "    for j in range(i + 1):\n",
        "        print(num, end=\" \")\n",
        "        num = num * (i - j) // (j + 1)\n",
        "    print()\n"
      ],
      "metadata": {
        "colab": {
          "base_uri": "https://localhost:8080/"
        },
        "id": "bHsJeEvBgMlb",
        "outputId": "617789a5-1e42-4456-936b-5062ebb50808"
      },
      "execution_count": 38,
      "outputs": [
        {
          "output_type": "stream",
          "name": "stdout",
          "text": [
            "1 \n",
            "1 1 \n",
            "1 2 1 \n",
            "1 3 3 1 \n",
            "1 4 6 4 1 \n",
            "1 5 10 10 5 1 \n",
            "1 6 15 20 15 6 1 \n"
          ]
        }
      ]
    },
    {
      "cell_type": "markdown",
      "source": [
        "13. Write the Python code to print the pattern\n",
        "\n",
        "        1 2 3 4 5\n",
        "\n",
        "        2 2 3 4 5\n",
        "\n",
        "        3 3 3 4 5\n",
        "\n",
        "        4 4 4 4 5\n",
        "        \n",
        "        5 5 5 5 5"
      ],
      "metadata": {
        "id": "mC3PuXCJejEZ"
      }
    },
    {
      "cell_type": "code",
      "source": [
        "rows = 5\n",
        "\n",
        "for i in range(1, rows + 1):\n",
        "    for j in range(1, rows + 1):\n",
        "        if j < i:\n",
        "            print(i, end=\" \")\n",
        "        else:\n",
        "            print(j, end=\" \")\n",
        "    print()\n"
      ],
      "metadata": {
        "colab": {
          "base_uri": "https://localhost:8080/"
        },
        "id": "DPVjW7_IhadU",
        "outputId": "b5fc8d87-6f2b-4b6a-f865-e199f982bf05"
      },
      "execution_count": 37,
      "outputs": [
        {
          "output_type": "stream",
          "name": "stdout",
          "text": [
            "1 2 3 4 5 \n",
            "2 2 3 4 5 \n",
            "3 3 3 4 5 \n",
            "4 4 4 4 5 \n",
            "5 5 5 5 5 \n"
          ]
        }
      ]
    },
    {
      "cell_type": "markdown",
      "source": [
        "14. Write the Python code to print the pattern\n",
        "\n",
        "        1  \n",
        "        2  4  \n",
        "        3  6  9  \n",
        "        4  8  12  16  \n",
        "        5  10  15  20  25  \n",
        "        6  12  18  24  30  36  \n",
        "        7  14  21  28  35  42  49  \n",
        "        8  16  24  32  40  48  56  64  "
      ],
      "metadata": {
        "id": "jwHaWzWZejzL"
      }
    },
    {
      "cell_type": "code",
      "source": [
        "rows = 8\n",
        "\n",
        "for i in range(1, rows + 1):\n",
        "    for j in range(1, i + 1):\n",
        "        print(f\"{i * j:<4}\", end=\" \")\n",
        "    print()\n"
      ],
      "metadata": {
        "colab": {
          "base_uri": "https://localhost:8080/"
        },
        "id": "lIDSQco3hbDm",
        "outputId": "aa593a15-3429-485a-d75b-b1dca92ae52e"
      },
      "execution_count": 36,
      "outputs": [
        {
          "output_type": "stream",
          "name": "stdout",
          "text": [
            "1    \n",
            "2    4    \n",
            "3    6    9    \n",
            "4    8    12   16   \n",
            "5    10   15   20   25   \n",
            "6    12   18   24   30   36   \n",
            "7    14   21   28   35   42   49   \n",
            "8    16   24   32   40   48   56   64   \n"
          ]
        }
      ]
    },
    {
      "cell_type": "markdown",
      "source": [
        "15. Write the Python code to print the pattern\n",
        "\n",
        "        *\n",
        "\n",
        "        * *\n",
        "\n",
        "        * * *\n",
        "\n",
        "        * * * *\n",
        "        \n",
        "        * * * * *"
      ],
      "metadata": {
        "id": "hfY6eH_veka_"
      }
    },
    {
      "cell_type": "code",
      "source": [
        "rows = 5\n",
        "\n",
        "for i in range(1, rows + 1):\n",
        "    print(\"* \" * i)\n"
      ],
      "metadata": {
        "colab": {
          "base_uri": "https://localhost:8080/"
        },
        "id": "Hec-a6tnhdEX",
        "outputId": "c9999e3d-7491-4ec0-8272-229f406a2dab"
      },
      "execution_count": 35,
      "outputs": [
        {
          "output_type": "stream",
          "name": "stdout",
          "text": [
            "* \n",
            "* * \n",
            "* * * \n",
            "* * * * \n",
            "* * * * * \n"
          ]
        }
      ]
    },
    {
      "cell_type": "markdown",
      "source": [
        "16. Write the Python code to print the pattern"
      ],
      "metadata": {
        "id": "Y3nbTHl_kBUN"
      }
    },
    {
      "cell_type": "markdown",
      "source": [
        "          \n",
        "              *\n",
        "            * *\n",
        "          * * *\n",
        "        * * * *\n",
        "      * * * * *"
      ],
      "metadata": {
        "id": "U9EVEEL8hd1B"
      }
    },
    {
      "cell_type": "code",
      "source": [
        "rows = 5\n",
        "\n",
        "for i in range(1, rows + 1):\n",
        "    print(\" \" * (rows - i) * 2 + \"* \" * i)\n"
      ],
      "metadata": {
        "colab": {
          "base_uri": "https://localhost:8080/"
        },
        "id": "Hy7rHjC_hkF5",
        "outputId": "35aac768-6a00-4d77-91c3-637a0d574993"
      },
      "execution_count": 34,
      "outputs": [
        {
          "output_type": "stream",
          "name": "stdout",
          "text": [
            "        * \n",
            "      * * \n",
            "    * * * \n",
            "  * * * * \n",
            "* * * * * \n"
          ]
        }
      ]
    },
    {
      "cell_type": "markdown",
      "source": [
        "17. Write the Python code to print the pattern"
      ],
      "metadata": {
        "id": "IZPKJ7makDut"
      }
    },
    {
      "cell_type": "markdown",
      "source": [
        "        * * * * *  \n",
        "        * * * *  \n",
        "        * * *  \n",
        "        * *  \n",
        "        *"
      ],
      "metadata": {
        "id": "21XVNkCThjXE"
      }
    },
    {
      "cell_type": "code",
      "source": [
        "rows = 5\n",
        "\n",
        "for i in range(rows, 0, -1):\n",
        "    print(\" \" + \"* \" * i)\n",
        "\n"
      ],
      "metadata": {
        "colab": {
          "base_uri": "https://localhost:8080/"
        },
        "id": "ntsTRP_xhp-X",
        "outputId": "058a6ffe-ae70-4ec6-f47c-853e5db6a8c1"
      },
      "execution_count": 33,
      "outputs": [
        {
          "output_type": "stream",
          "name": "stdout",
          "text": [
            " * * * * * \n",
            " * * * * \n",
            " * * * \n",
            " * * \n",
            " * \n"
          ]
        }
      ]
    },
    {
      "cell_type": "markdown",
      "source": [
        "18. Write the Python code to print the pattern"
      ],
      "metadata": {
        "id": "xQk_gbV9kJPS"
      }
    },
    {
      "cell_type": "markdown",
      "source": [
        "        * * * * * *\n",
        "         * * * * *\n",
        "          * * * *\n",
        "           * * *\n",
        "            * *\n",
        "             *"
      ],
      "metadata": {
        "id": "ENrzbvoShpma"
      }
    },
    {
      "cell_type": "code",
      "source": [
        "rows = 6\n",
        "\n",
        "for i in range(rows, 0, -1):\n",
        "    print(\" \" * (rows - i) + \"* \" * i)\n"
      ],
      "metadata": {
        "colab": {
          "base_uri": "https://localhost:8080/"
        },
        "id": "vImKAZb7hutw",
        "outputId": "62124a26-4feb-4498-c2c0-a51289b629bd"
      },
      "execution_count": 29,
      "outputs": [
        {
          "output_type": "stream",
          "name": "stdout",
          "text": [
            "* * * * * * \n",
            " * * * * * \n",
            "  * * * * \n",
            "   * * * \n",
            "    * * \n",
            "     * \n"
          ]
        }
      ]
    },
    {
      "cell_type": "markdown",
      "source": [
        "19. Write the Python code to print the pattern"
      ],
      "metadata": {
        "id": "W-MIxfuHkKza"
      }
    },
    {
      "cell_type": "markdown",
      "source": [
        "        *****\n",
        "         ****\n",
        "          ***\n",
        "           **\n",
        "            *"
      ],
      "metadata": {
        "id": "g4Zf-s6mhuW1"
      }
    },
    {
      "cell_type": "code",
      "source": [
        "rows = 5\n",
        "\n",
        "for i in range(rows, 0, -1):\n",
        "    print(\" \" * (rows - i) + \"*\" * i)\n"
      ],
      "metadata": {
        "colab": {
          "base_uri": "https://localhost:8080/"
        },
        "id": "Jso0K5skh12E",
        "outputId": "ba8dc954-6d0f-4c81-d56f-f43c398a2484"
      },
      "execution_count": 28,
      "outputs": [
        {
          "output_type": "stream",
          "name": "stdout",
          "text": [
            "*****\n",
            " ****\n",
            "  ***\n",
            "   **\n",
            "    *\n"
          ]
        }
      ]
    },
    {
      "cell_type": "markdown",
      "source": [
        "20. Write the Python code to print the pattern"
      ],
      "metadata": {
        "id": "_GY3uPwbkMM8"
      }
    },
    {
      "cell_type": "markdown",
      "source": [
        "            *   \n",
        "           *  *   \n",
        "          *  *  *   \n",
        "         *  *  *  *   \n",
        "        *  *  *  *  *   \n",
        "       *  *  *  *  *  *   \n",
        "      *  *  *  *  *  *  *   "
      ],
      "metadata": {
        "id": "nEn2u__4h2aO"
      }
    },
    {
      "cell_type": "code",
      "source": [
        "rows = 7\n",
        "\n",
        "for i in range(1, rows + 1):\n",
        "    print(\" \" * (rows - i) + \"*  \" * i)\n"
      ],
      "metadata": {
        "colab": {
          "base_uri": "https://localhost:8080/"
        },
        "id": "uWUpLVz2h7M-",
        "outputId": "5a197e99-6804-41f8-f77f-8e764854f94e"
      },
      "execution_count": 27,
      "outputs": [
        {
          "output_type": "stream",
          "name": "stdout",
          "text": [
            "      *  \n",
            "     *  *  \n",
            "    *  *  *  \n",
            "   *  *  *  *  \n",
            "  *  *  *  *  *  \n",
            " *  *  *  *  *  *  \n",
            "*  *  *  *  *  *  *  \n"
          ]
        }
      ]
    },
    {
      "cell_type": "markdown",
      "source": [
        "21. Write the Python code to print the pattern"
      ],
      "metadata": {
        "id": "7TqKQaLmkNuQ"
      }
    },
    {
      "cell_type": "markdown",
      "source": [
        "      *\n",
        "        * *\n",
        "          * * *\n",
        "            * * * *\n",
        "              * * * * *\n",
        "                * * * * * *\n",
        "\n",
        "                * * * * * *\n",
        "              * * * * *\n",
        "            * * * *\n",
        "         * * *\n",
        "      * *\n",
        "    *"
      ],
      "metadata": {
        "id": "bbyKYJIkh8vC"
      }
    },
    {
      "cell_type": "code",
      "source": [
        "rows = 6\n",
        "\n",
        "for i in range(1, rows + 1):\n",
        "    print(\" \" * i + \"* \" * i)\n",
        "\n",
        "print()\n",
        "\n",
        "for i in range(rows, 0, -1):\n",
        "    print(\" \" * i + \"* \" * i)\n"
      ],
      "metadata": {
        "colab": {
          "base_uri": "https://localhost:8080/"
        },
        "id": "t0-ubyZ3iAqn",
        "outputId": "1fd2add6-dbd9-4023-b5b6-5d9fb61e4b31"
      },
      "execution_count": 26,
      "outputs": [
        {
          "output_type": "stream",
          "name": "stdout",
          "text": [
            " * \n",
            "  * * \n",
            "   * * * \n",
            "    * * * * \n",
            "     * * * * * \n",
            "      * * * * * * \n",
            "\n",
            "      * * * * * * \n",
            "     * * * * * \n",
            "    * * * * \n",
            "   * * * \n",
            "  * * \n",
            " * \n"
          ]
        }
      ]
    },
    {
      "cell_type": "markdown",
      "source": [
        "22. Write the Python code to print the pattern"
      ],
      "metadata": {
        "id": "viaeEqU2kPPR"
      }
    },
    {
      "cell_type": "markdown",
      "source": [
        "      *\n",
        "      * *\n",
        "      * * *\n",
        "      * * * *\n",
        "      * * * * *\n",
        "      * * * *\n",
        "      * * *\n",
        "      * *\n",
        "      *"
      ],
      "metadata": {
        "id": "d4DQSxbGiBMt"
      }
    },
    {
      "cell_type": "code",
      "source": [
        "rows = 5\n",
        "\n",
        "\n",
        "for i in range(1, rows + 1):\n",
        "    print(\"  *\" * i)\n",
        "\n",
        "\n",
        "for i in range(rows - 1, 0, -1):\n",
        "    print(\"  *\" * i)\n"
      ],
      "metadata": {
        "colab": {
          "base_uri": "https://localhost:8080/"
        },
        "id": "krKQ8SBaiExH",
        "outputId": "2aef9ac3-58fd-4745-e7e9-8f96074047d2"
      },
      "execution_count": 24,
      "outputs": [
        {
          "output_type": "stream",
          "name": "stdout",
          "text": [
            "  *\n",
            "  *  *\n",
            "  *  *  *\n",
            "  *  *  *  *\n",
            "  *  *  *  *  *\n",
            "  *  *  *  *\n",
            "  *  *  *\n",
            "  *  *\n",
            "  *\n"
          ]
        }
      ]
    },
    {
      "cell_type": "markdown",
      "source": [
        "23. Write the Python code to print the pattern"
      ],
      "metadata": {
        "id": "6-TO7xNLkQ2B"
      }
    },
    {
      "cell_type": "markdown",
      "source": [
        "           *\n",
        "          * *\n",
        "        * * *\n",
        "      * * * *\n",
        "    * * * * *\n",
        "      * * * *\n",
        "        * * *\n",
        "          * *\n",
        "           *"
      ],
      "metadata": {
        "id": "objkq1VoiFXo"
      }
    },
    {
      "cell_type": "code",
      "source": [
        "rows = 5\n",
        "\n",
        "\n",
        "for i in range(1, rows + 1):\n",
        "    print(\"  \" * (rows - i) + \"* \" * i)\n",
        "\n",
        "for i in range(rows - 1, 0, -1):\n",
        "    print(\"  \" * (rows - i) + \"* \" * i)\n"
      ],
      "metadata": {
        "colab": {
          "base_uri": "https://localhost:8080/"
        },
        "id": "HY1wPefTiM5L",
        "outputId": "63385894-61b3-4874-e246-4f457d367ca2"
      },
      "execution_count": 23,
      "outputs": [
        {
          "output_type": "stream",
          "name": "stdout",
          "text": [
            "        * \n",
            "      * * \n",
            "    * * * \n",
            "  * * * * \n",
            "* * * * * \n",
            "  * * * * \n",
            "    * * * \n",
            "      * * \n",
            "        * \n"
          ]
        }
      ]
    },
    {
      "cell_type": "markdown",
      "source": [
        "24. Write the Python code to print the pattern"
      ],
      "metadata": {
        "id": "XO8C3cO2kTRY"
      }
    },
    {
      "cell_type": "markdown",
      "source": [
        "      * * * * *\n",
        "       * * * *\n",
        "        * * *\n",
        "         * *\n",
        "          *\n",
        "          *\n",
        "         * *\n",
        "        * * *\n",
        "       * * * *\n",
        "       * * * * *"
      ],
      "metadata": {
        "id": "IrYrYAeyiNSH"
      }
    },
    {
      "cell_type": "code",
      "source": [
        "rows = 5\n",
        "\n",
        "for i in range(rows, 0, -1):\n",
        "    print(\" \" * (rows - i) + \"* \" * i)\n",
        "\n",
        "for i in range(1, rows + 1):\n",
        "    print(\" \" * (rows - i) + \"* \" * i)\n"
      ],
      "metadata": {
        "colab": {
          "base_uri": "https://localhost:8080/"
        },
        "id": "eXelzjtsibFI",
        "outputId": "5c2d3868-babf-4aad-a8c8-afcbd4d8ab57"
      },
      "execution_count": 22,
      "outputs": [
        {
          "output_type": "stream",
          "name": "stdout",
          "text": [
            "* * * * * \n",
            " * * * * \n",
            "  * * * \n",
            "   * * \n",
            "    * \n",
            "    * \n",
            "   * * \n",
            "  * * * \n",
            " * * * * \n",
            "* * * * * \n"
          ]
        }
      ]
    },
    {
      "cell_type": "markdown",
      "source": [
        "25. Write the Python code to print the pattern"
      ],
      "metadata": {
        "id": "dT911DTKkU0-"
      }
    },
    {
      "cell_type": "markdown",
      "source": [
        "            *\n",
        "           * *\n",
        "          * * *\n",
        "         * * * *\n",
        "        * * * * *\n",
        "       * * * * * *\n",
        "        * * * * *\n",
        "         * * * *\n",
        "          * * *\n",
        "           * *\n",
        "            *"
      ],
      "metadata": {
        "id": "FTRevKuNibbv"
      }
    },
    {
      "cell_type": "code",
      "source": [
        "rows = 6\n",
        "for i in range(1, rows + 1):\n",
        "    print(\" \" * (rows - i) + \"* \" * i)\n",
        "\n",
        "for i in range(rows - 1, 0, -1):\n",
        "    print(\" \" * (rows - i) + \"* \" * i)"
      ],
      "metadata": {
        "colab": {
          "base_uri": "https://localhost:8080/"
        },
        "id": "EATSYb2eikuP",
        "outputId": "581e3126-acc3-4c2e-81f4-fc7cdfd8194b"
      },
      "execution_count": 21,
      "outputs": [
        {
          "output_type": "stream",
          "name": "stdout",
          "text": [
            "     * \n",
            "    * * \n",
            "   * * * \n",
            "  * * * * \n",
            " * * * * * \n",
            "* * * * * * \n",
            " * * * * * \n",
            "  * * * * \n",
            "   * * * \n",
            "    * * \n",
            "     * \n"
          ]
        }
      ]
    }
  ]
}