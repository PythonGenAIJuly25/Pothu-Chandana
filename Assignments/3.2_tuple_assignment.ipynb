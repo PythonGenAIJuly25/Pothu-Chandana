{
  "nbformat": 4,
  "nbformat_minor": 0,
  "metadata": {
    "colab": {
      "provenance": []
    },
    "kernelspec": {
      "name": "python3",
      "display_name": "Python 3"
    },
    "language_info": {
      "name": "python"
    }
  },
  "cells": [
    {
      "cell_type": "markdown",
      "source": [
        "# Module 3: Data Structures Assignments\n",
        "## Lesson 3.2: Tuples\n",
        "### Assignment 1: Creating and Accessing Tuples\n",
        "\n",
        "Create a tuple with the first 10 positive integers. Print the tuple.\n"
      ],
      "metadata": {
        "id": "_lRZjIbczgHL"
      }
    },
    {
      "cell_type": "code",
      "execution_count": 28,
      "metadata": {
        "colab": {
          "base_uri": "https://localhost:8080/"
        },
        "id": "-jelcOe2zahP",
        "outputId": "be04e5dd-8af7-4018-f4ab-5f69de62f5b3"
      },
      "outputs": [
        {
          "output_type": "stream",
          "name": "stdout",
          "text": [
            "(1, 2, 3, 4, 5, 6, 7, 8, 9, 10)\n"
          ]
        }
      ],
      "source": [
        "numbers = tuple(range(1, 11))\n",
        "\n",
        "print(numbers)"
      ]
    },
    {
      "cell_type": "markdown",
      "source": [
        "### Assignment 2: Accessing Tuple Elements\n",
        "\n",
        "Print the first, middle, and last elements of the tuple created in Assignment 1.\n"
      ],
      "metadata": {
        "id": "qa-8kkg0ziPn"
      }
    },
    {
      "cell_type": "code",
      "source": [
        "print(f'first element: {numbers[0]}')\n",
        "print(f'middle element: {numbers[4]}')\n",
        "print(f'last element: {numbers[9]}')"
      ],
      "metadata": {
        "colab": {
          "base_uri": "https://localhost:8080/"
        },
        "id": "_CijfW_uzklr",
        "outputId": "575cf981-d504-406b-f304-fc4a258472e3"
      },
      "execution_count": 3,
      "outputs": [
        {
          "output_type": "stream",
          "name": "stdout",
          "text": [
            "first element: 1\n",
            "middle element: 5\n",
            "last element: 10\n"
          ]
        }
      ]
    },
    {
      "cell_type": "markdown",
      "source": [
        "### Assignment 3: Tuple Slicing\n",
        "\n",
        "Print the first three elements, the last three elements, and the elements from index 2 to 5 of the tuple created in Assignment 1."
      ],
      "metadata": {
        "id": "XwYT-i-FzlD-"
      }
    },
    {
      "cell_type": "code",
      "source": [
        "print(f'first 3 elements: {numbers[0:3]}')\n",
        "print(f'last 3 elements: {numbers[-3:]}')\n",
        "print(f'elements from index 2 to 5: {numbers[2:6]}')"
      ],
      "metadata": {
        "colab": {
          "base_uri": "https://localhost:8080/"
        },
        "id": "-JpzcD3AznI8",
        "outputId": "3a5004bf-6135-40d3-df35-7eb1a9e6b7be"
      },
      "execution_count": 30,
      "outputs": [
        {
          "output_type": "stream",
          "name": "stdout",
          "text": [
            "first 3 elements: (1, 2, 3)\n",
            "last 3 elements: (8, 9, 10)\n",
            "elements from index 2 to 5: (3, 4, 5, 6)\n"
          ]
        }
      ]
    },
    {
      "cell_type": "markdown",
      "source": [
        "### Assignment 4: Nested Tuples\n",
        "\n",
        "Create a nested tuple representing a 3x3 matrix and print the matrix. Access and print the element at the second row and third column.\n"
      ],
      "metadata": {
        "id": "bpk1NoOaznlw"
      }
    },
    {
      "cell_type": "code",
      "source": [
        "matrix = (\n",
        "    (1, 2, 3),\n",
        "    (4, 5, 6),\n",
        "    (7, 8, 9)\n",
        ")\n",
        "\n",
        "print(\"Matrix:\")\n",
        "for row in matrix:\n",
        "    print(row)\n",
        "\n",
        "# Access and print the element at second row, third column\n",
        "element = matrix[1][2]\n",
        "print(\"Element at second row, third column:\", element)"
      ],
      "metadata": {
        "colab": {
          "base_uri": "https://localhost:8080/"
        },
        "id": "zOmd7c2PzpqL",
        "outputId": "0bb9c8a5-a200-4d62-ea7c-445e0a93e329"
      },
      "execution_count": 6,
      "outputs": [
        {
          "output_type": "stream",
          "name": "stdout",
          "text": [
            "Matrix:\n",
            "(1, 2, 3)\n",
            "(4, 5, 6)\n",
            "(7, 8, 9)\n",
            "Element at second row, third column: 6\n"
          ]
        }
      ]
    },
    {
      "cell_type": "markdown",
      "source": [
        "### Assignment 5: Tuple Concatenation\n",
        "\n",
        "Concatenate two tuples: (1, 2, 3) and (4, 5, 6). Print the resulting tuple."
      ],
      "metadata": {
        "id": "USXc8vBIzqAF"
      }
    },
    {
      "cell_type": "code",
      "source": [
        "tuple1 = (1, 2, 3)\n",
        "tuple2 = (4, 5, 6)\n",
        "\n",
        "result = tuple1 + tuple2\n",
        "\n",
        "print(\"Concatenated tuple:\", result)"
      ],
      "metadata": {
        "colab": {
          "base_uri": "https://localhost:8080/"
        },
        "id": "8OVioKAOzsGy",
        "outputId": "81322afc-b7de-4198-8e4c-71e8d81dcba9"
      },
      "execution_count": 8,
      "outputs": [
        {
          "output_type": "stream",
          "name": "stdout",
          "text": [
            "Concatenated tuple: (1, 2, 3, 4, 5, 6)\n"
          ]
        }
      ]
    },
    {
      "cell_type": "markdown",
      "source": [
        "### Assignment 6: Tuple Methods\n",
        "\n",
        "Create a tuple with duplicate elements and count the occurrences of an element. Find the index of the first occurrence of an element in the tuple."
      ],
      "metadata": {
        "id": "b00a1IduzrtF"
      }
    },
    {
      "cell_type": "code",
      "source": [
        "numbers = (2, 4, 6, 2, 8, 2, 4, 6)\n",
        "\n",
        "count_2 = numbers.count(2)\n",
        "\n",
        "index_2 = numbers.index(2)\n",
        "\n",
        "print(\"Tuple:\", numbers)\n",
        "print(\"Count of 2:\", count_2)\n",
        "print(\"Index of first occurrence of 2:\", index_2)"
      ],
      "metadata": {
        "colab": {
          "base_uri": "https://localhost:8080/"
        },
        "id": "mFmryf08zuPr",
        "outputId": "2f51ac04-cd06-4648-b876-0d212a29be44"
      },
      "execution_count": 10,
      "outputs": [
        {
          "output_type": "stream",
          "name": "stdout",
          "text": [
            "Tuple: (2, 4, 6, 2, 8, 2, 4, 6)\n",
            "Count of 2: 3\n",
            "Index of first occurrence of 2: 0\n"
          ]
        }
      ]
    },
    {
      "cell_type": "markdown",
      "source": [
        "### Assignment 7: Unpacking Tuples\n",
        "\n",
        "Create a tuple with 5 elements and unpack it into 5 variables. Print the variables."
      ],
      "metadata": {
        "id": "tqDSDGp6zukE"
      }
    },
    {
      "cell_type": "code",
      "source": [
        "data = (10, 20, 30, 40, 50)\n",
        "\n",
        "a, b, c, d, e = data\n",
        "\n",
        "print(\"Unpacked variables:\")\n",
        "print(\"a:\", a)\n",
        "print(\"b:\", b)\n",
        "print(\"c:\", c)\n",
        "print(\"d:\", d)\n",
        "print(\"e:\", e)"
      ],
      "metadata": {
        "colab": {
          "base_uri": "https://localhost:8080/"
        },
        "id": "iL1tHlmhzwcm",
        "outputId": "70f38e3b-f417-4403-92da-14dbeb9d99ed"
      },
      "execution_count": 11,
      "outputs": [
        {
          "output_type": "stream",
          "name": "stdout",
          "text": [
            "Unpacked variables:\n",
            "a: 10\n",
            "b: 20\n",
            "c: 30\n",
            "d: 40\n",
            "e: 50\n"
          ]
        }
      ]
    },
    {
      "cell_type": "markdown",
      "source": [
        "### Assignment 8: Tuple Conversion\n",
        "\n",
        "Convert a list of the first 5 positive integers to a tuple. Print the tuple."
      ],
      "metadata": {
        "id": "2iMlXWHFzw2n"
      }
    },
    {
      "cell_type": "code",
      "source": [
        "numbers_list = [1, 2, 3, 4, 5]\n",
        "\n",
        "numbers_tuple = tuple(numbers_list)\n",
        "\n",
        "print(\"Tuple:\", numbers_tuple)"
      ],
      "metadata": {
        "colab": {
          "base_uri": "https://localhost:8080/"
        },
        "id": "vIUE2fiKzy5A",
        "outputId": "487cd0fc-6555-43ba-ff64-1a65acd3b301"
      },
      "execution_count": 12,
      "outputs": [
        {
          "output_type": "stream",
          "name": "stdout",
          "text": [
            "Tuple: (1, 2, 3, 4, 5)\n"
          ]
        }
      ]
    },
    {
      "cell_type": "markdown",
      "source": [
        "### Assignment 9: Tuple of Tuples\n",
        "\n",
        "Create a tuple containing 3 tuples, each with 3 elements. Print the tuple of tuples."
      ],
      "metadata": {
        "id": "iQ2UD0mJzzXd"
      }
    },
    {
      "cell_type": "code",
      "source": [
        "matrix = (\n",
        "    (1, 22, 3),\n",
        "    (4, 5, 16),\n",
        "    (17, 8, 29)\n",
        ")\n",
        "\n",
        "print(\"Tuple of tuples:\")\n",
        "print(matrix)\n"
      ],
      "metadata": {
        "colab": {
          "base_uri": "https://localhost:8080/"
        },
        "id": "VtZaO-BWz1Qa",
        "outputId": "46204400-cc98-45dd-be0d-990fdc3ecd03"
      },
      "execution_count": 31,
      "outputs": [
        {
          "output_type": "stream",
          "name": "stdout",
          "text": [
            "Tuple of tuples:\n",
            "((1, 22, 3), (4, 5, 16), (17, 8, 29))\n"
          ]
        }
      ]
    },
    {
      "cell_type": "markdown",
      "source": [
        "### Assignment 10: Tuple and List\n",
        "\n",
        "Create a tuple with the first 5 positive integers. Convert it to a list, append the number 6, and convert it back to a tuple. Print the resulting tuple."
      ],
      "metadata": {
        "id": "i34atTLgz1lK"
      }
    },
    {
      "cell_type": "code",
      "source": [
        "numbers = (1, 2, 3, 4, 5)\n",
        "\n",
        "numbers_list = list(numbers)\n",
        "\n",
        "numbers_list.append(6)\n",
        "\n",
        "updated_tuple = tuple(numbers_list)\n",
        "\n",
        "print(\"Updated tuple:\", updated_tuple)"
      ],
      "metadata": {
        "colab": {
          "base_uri": "https://localhost:8080/"
        },
        "id": "3L6Wwcwhz3l0",
        "outputId": "1cf4f2e2-3f70-4ce6-fe43-8164cccebc4e"
      },
      "execution_count": 14,
      "outputs": [
        {
          "output_type": "stream",
          "name": "stdout",
          "text": [
            "Updated tuple: (1, 2, 3, 4, 5, 6)\n"
          ]
        }
      ]
    },
    {
      "cell_type": "markdown",
      "source": [
        "### Assignment 11: Tuple and String\n",
        "\n",
        "Create a tuple with the characters of a string. Join the tuple elements into a single string. Print the string."
      ],
      "metadata": {
        "id": "fLYtTI3-z362"
      }
    },
    {
      "cell_type": "code",
      "source": [
        "text = \"Hello\"\n",
        "\n",
        "char_tuple = tuple(text)\n",
        "\n",
        "joined_string = ''.join(char_tuple)\n",
        "\n",
        "print(\"Joined string:\", joined_string)\n"
      ],
      "metadata": {
        "colab": {
          "base_uri": "https://localhost:8080/"
        },
        "id": "Q8jeaJuHz584",
        "outputId": "bdfed914-0819-4547-aceb-373f979437a0"
      },
      "execution_count": 34,
      "outputs": [
        {
          "output_type": "stream",
          "name": "stdout",
          "text": [
            "Joined string: HelloWelcome\n"
          ]
        }
      ]
    },
    {
      "cell_type": "markdown",
      "source": [
        "### Assignment 12: Tuple and Dictionary\n",
        "\n",
        "Create a dictionary with tuple keys and integer values. Print the dictionary."
      ],
      "metadata": {
        "id": "uObPfOT2z6RQ"
      }
    },
    {
      "cell_type": "code",
      "source": [
        "my_dict = {\n",
        "    (1, 2): 10,\n",
        "    (3, 4): 20,\n",
        "    (5, 6): 30\n",
        "}\n",
        "\n",
        "print(\"Dictionary with tuple keys:\")\n",
        "print(my_dict)\n"
      ],
      "metadata": {
        "colab": {
          "base_uri": "https://localhost:8080/"
        },
        "id": "gTA9byWiz8DZ",
        "outputId": "f4e81054-f832-42f3-a7b6-2288d28563bb"
      },
      "execution_count": 16,
      "outputs": [
        {
          "output_type": "stream",
          "name": "stdout",
          "text": [
            "Dictionary with tuple keys:\n",
            "{(1, 2): 10, (3, 4): 20, (5, 6): 30}\n"
          ]
        }
      ]
    },
    {
      "cell_type": "markdown",
      "source": [
        "### Assignment 13: Nested Tuple Iteration\n",
        "\n",
        "Create a nested tuple and iterate over the elements, printing each element."
      ],
      "metadata": {
        "id": "9mx2NPKZz8hA"
      }
    },
    {
      "cell_type": "code",
      "source": [
        "nested_tuple = (\n",
        "    (1, 2, 3),\n",
        "    (4, 5, 6),\n",
        "    (7, 8, 9)\n",
        ")\n",
        "\n",
        "print(\"Elements in the nested tuple:\")\n",
        "for row in nested_tuple:\n",
        "    for item in row:\n",
        "        print(item)\n"
      ],
      "metadata": {
        "colab": {
          "base_uri": "https://localhost:8080/"
        },
        "id": "ZbJtMZysz-bY",
        "outputId": "d7d21d3d-c9d7-4de5-8de3-c48255f1f536"
      },
      "execution_count": 18,
      "outputs": [
        {
          "output_type": "stream",
          "name": "stdout",
          "text": [
            "Elements in the nested tuple:\n",
            "1\n",
            "2\n",
            "3\n",
            "4\n",
            "5\n",
            "6\n",
            "7\n",
            "8\n",
            "9\n"
          ]
        }
      ]
    },
    {
      "cell_type": "markdown",
      "source": [
        "### Assignment 14: Tuple and Set\n",
        "\n",
        "Create a tuple with duplicate elements. Convert it to a set to remove duplicates and print the resulting set."
      ],
      "metadata": {
        "id": "3AfestqKz-yd"
      }
    },
    {
      "cell_type": "code",
      "source": [
        "numbers = (1, 2, 2, 3, 4, 4, 5)\n",
        "\n",
        "\n",
        "unique_numbers = set(numbers)\n",
        "\n",
        "print(\"Set without duplicates:\", unique_numbers)\n"
      ],
      "metadata": {
        "colab": {
          "base_uri": "https://localhost:8080/"
        },
        "id": "m6MS6ZtH0A_p",
        "outputId": "7d393d98-ebb1-4de5-b503-0b679ce1bc09"
      },
      "execution_count": 19,
      "outputs": [
        {
          "output_type": "stream",
          "name": "stdout",
          "text": [
            "Set without duplicates: {1, 2, 3, 4, 5}\n"
          ]
        }
      ]
    },
    {
      "cell_type": "markdown",
      "source": [
        "### Assignment 15: Tuple Functions\n",
        "\n",
        "Write functions that take a tuple and return the minimum, maximum, and sum of the elements. Print the results for a sample tuple."
      ],
      "metadata": {
        "id": "2vaMk6Ve0BXc"
      }
    },
    {
      "cell_type": "code",
      "source": [
        "def get_min(t):\n",
        "    return min(t)\n",
        "\n",
        "def get_max(t):\n",
        "    return max(t)\n",
        "\n",
        "def get_sum(t):\n",
        "    return sum(t)\n",
        "\n",
        "tuple1 = (4, 7, 1, 9, 3)\n",
        "\n",
        "print(\"Tuple:\", tuple1)\n",
        "print(\"Minimum:\", get_min(tuple1))\n",
        "print(\"Maximum:\", get_max(tuple1))\n",
        "print(\"Sum:\", get_sum(tuple1))"
      ],
      "metadata": {
        "colab": {
          "base_uri": "https://localhost:8080/"
        },
        "id": "X8EWONIh0EZl",
        "outputId": "27166930-0f89-4b0b-cd7e-b346c90d14d8"
      },
      "execution_count": 35,
      "outputs": [
        {
          "output_type": "stream",
          "name": "stdout",
          "text": [
            "Tuple: (4, 7, 1, 9, 3)\n",
            "Minimum: 1\n",
            "Maximum: 9\n",
            "Sum: 24\n"
          ]
        }
      ]
    }
  ]
}