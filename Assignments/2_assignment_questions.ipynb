{
  "cells": [
    {
      "cell_type": "markdown",
      "source": [
        "# Module 2: Control Flow Assignments\n",
        "## Lesson 2.1: Conditional Statements"
      ],
      "metadata": {
        "id": "t_EDGnqdYJSX"
      },
      "id": "t_EDGnqdYJSX"
    },
    {
      "cell_type": "markdown",
      "source": [
        "### Assignment 1: Simple if Statement\n",
        "\n",
        "Write a program that asks the user to input a number and prints whether the number is positive."
      ],
      "metadata": {
        "id": "nc4uyzeOX_Ua"
      },
      "id": "nc4uyzeOX_Ua"
    },
    {
      "cell_type": "code",
      "source": [
        "# your code here\n",
        "num = int(input(\"Enter the Number: \"))\n",
        "\n",
        "if num >= 0:\n",
        "  print(f'{num} is positive')"
      ],
      "metadata": {
        "id": "1f71SE04YAzG",
        "colab": {
          "base_uri": "https://localhost:8080/"
        },
        "outputId": "40a4ccf5-93ac-4d35-a216-b7db34bdcc77"
      },
      "id": "1f71SE04YAzG",
      "execution_count": 6,
      "outputs": [
        {
          "output_type": "stream",
          "name": "stdout",
          "text": [
            "Enter the Number: 7\n",
            "7 is positive\n"
          ]
        }
      ]
    },
    {
      "cell_type": "markdown",
      "source": [
        "### Assignment 2: if-else Statement\n",
        "\n",
        "Write a program that asks the user to input a number and prints whether the number is positive or negative."
      ],
      "metadata": {
        "id": "6MIuZhEAYNTS"
      },
      "id": "6MIuZhEAYNTS"
    },
    {
      "cell_type": "code",
      "source": [
        "num = int(input(\"Enter the Number: \"))\n",
        "\n",
        "if num >= 0:\n",
        "  print(f'{num} is positive')\n",
        "else:\n",
        "  print(f'{num} is negative')"
      ],
      "metadata": {
        "colab": {
          "base_uri": "https://localhost:8080/"
        },
        "id": "i_Atr9F1Y52f",
        "outputId": "be478585-5120-4b18-e113-df5e38b9810e"
      },
      "id": "i_Atr9F1Y52f",
      "execution_count": 8,
      "outputs": [
        {
          "output_type": "stream",
          "name": "stdout",
          "text": [
            "Enter the Number: -1\n",
            "-1 is negative\n"
          ]
        }
      ]
    },
    {
      "cell_type": "markdown",
      "source": [
        "### Assignment 3: if-elif-else Statement\n",
        "\n",
        "Write a program that asks the user to input a number and prints whether the number is positive, negative, or zero."
      ],
      "metadata": {
        "id": "Ffhoc4KoZPxS"
      },
      "id": "Ffhoc4KoZPxS"
    },
    {
      "cell_type": "code",
      "execution_count": 12,
      "metadata": {
        "id": "vAUUndrFXiq8",
        "colab": {
          "base_uri": "https://localhost:8080/"
        },
        "outputId": "27e3c816-91fe-45fc-c5dc-6c931cdb6b0c"
      },
      "outputs": [
        {
          "output_type": "stream",
          "name": "stdout",
          "text": [
            "Enter the Number: 7\n",
            "7 is positive\n"
          ]
        }
      ],
      "source": [
        "num = int(input(\"Enter the Number: \"))\n",
        "\n",
        "if num > 0:\n",
        "  print(f'{num} is positive')\n",
        "elif num < 0:\n",
        "  print(f'{num} is negative')\n",
        "else:\n",
        "  print(f'{num} is equal to zero')"
      ],
      "id": "vAUUndrFXiq8"
    },
    {
      "cell_type": "markdown",
      "source": [
        "### Assignment 4: Nested if Statement\n",
        "Write a program that asks the user to input a number and prints whether the number is positive and even, positive and odd, or negative."
      ],
      "metadata": {
        "id": "gQyNufEmZ0aR"
      },
      "id": "gQyNufEmZ0aR"
    },
    {
      "cell_type": "code",
      "source": [
        "num = int(input(\"Enter the Number: \"))\n",
        "\n",
        "if num > 0:\n",
        "  if num % 2 == 0:\n",
        "    print(f'{num} is positive and even')\n",
        "  else:\n",
        "    print(f'{num} is positive and odd')\n",
        "elif num < 0:\n",
        "  if num % 2 == 0:\n",
        "    print(f'{num} is negative and even')\n",
        "  else:\n",
        "    print(f'{num} is negative and odd')\n",
        "else:\n",
        "  print(f'{num} is equal to zero')"
      ],
      "metadata": {
        "colab": {
          "base_uri": "https://localhost:8080/"
        },
        "id": "_e-cQ2CfZ-ew",
        "outputId": "de41fc4b-73f4-4e9f-c0db-fc1efe940e8a"
      },
      "id": "_e-cQ2CfZ-ew",
      "execution_count": 21,
      "outputs": [
        {
          "output_type": "stream",
          "name": "stdout",
          "text": [
            "Enter the Number: -8\n",
            "-8 is negative and even\n"
          ]
        }
      ]
    },
    {
      "cell_type": "markdown",
      "source": [
        "## Lesson 2.2: Loops\n",
        "### Assignment 5: for Loop\n",
        "\n",
        "Write a program that prints all the numbers from 1 to 10 using a for loop."
      ],
      "metadata": {
        "id": "Vvb0HY_gbwWt"
      },
      "id": "Vvb0HY_gbwWt"
    },
    {
      "cell_type": "code",
      "source": [
        "for i in range(1, 11):\n",
        "  print(i)\n"
      ],
      "metadata": {
        "colab": {
          "base_uri": "https://localhost:8080/"
        },
        "id": "NFaaY3qpbyYy",
        "outputId": "e58dec60-8696-47cc-d2a5-1f96adf7a6b7"
      },
      "id": "NFaaY3qpbyYy",
      "execution_count": 23,
      "outputs": [
        {
          "output_type": "stream",
          "name": "stdout",
          "text": [
            "1\n",
            "2\n",
            "3\n",
            "4\n",
            "5\n",
            "6\n",
            "7\n",
            "8\n",
            "9\n",
            "10\n"
          ]
        }
      ]
    },
    {
      "cell_type": "markdown",
      "source": [
        "### Assignment 6: while Loop\n",
        "\n",
        "Write a program that prints all the numbers from 1 to 10 using a while loop.\n"
      ],
      "metadata": {
        "id": "z7_VsDvRby4X"
      },
      "id": "z7_VsDvRby4X"
    },
    {
      "cell_type": "code",
      "source": [
        "i=1\n",
        "while i <= 10:\n",
        "  print(i)\n",
        "  i=i+1"
      ],
      "metadata": {
        "colab": {
          "base_uri": "https://localhost:8080/"
        },
        "id": "dwy40YCqb-Dg",
        "outputId": "d64d3963-680b-4262-b846-0fa08900e1c9"
      },
      "id": "dwy40YCqb-Dg",
      "execution_count": 31,
      "outputs": [
        {
          "output_type": "stream",
          "name": "stdout",
          "text": [
            "1\n",
            "2\n",
            "3\n",
            "4\n",
            "5\n",
            "6\n",
            "7\n",
            "8\n",
            "9\n",
            "10\n"
          ]
        }
      ]
    },
    {
      "cell_type": "markdown",
      "source": [
        "### Assignment 7: Nested Loops\n",
        "\n",
        "Write a program that prints a 5x5 grid of asterisks (*) using nested loops."
      ],
      "metadata": {
        "id": "s79Ywg-Ib-gp"
      },
      "id": "s79Ywg-Ib-gp"
    },
    {
      "cell_type": "code",
      "source": [
        "num = 5\n",
        "\n",
        "for i in range(num):\n",
        "  for j in range(num):\n",
        "    print(\"*\", end=\" \")\n",
        "  print(\" \")"
      ],
      "metadata": {
        "colab": {
          "base_uri": "https://localhost:8080/"
        },
        "id": "90GbjYWmb_ul",
        "outputId": "c8350207-6562-4163-b370-490cf73c17c4"
      },
      "id": "90GbjYWmb_ul",
      "execution_count": 42,
      "outputs": [
        {
          "output_type": "stream",
          "name": "stdout",
          "text": [
            "* * * * *  \n",
            "* * * * *  \n",
            "* * * * *  \n",
            "* * * * *  \n",
            "* * * * *  \n"
          ]
        }
      ]
    },
    {
      "cell_type": "markdown",
      "source": [
        "\n",
        "\n",
        "### Assignment 8: break Statement\n",
        "\n",
        "Write a program that asks the user to input numbers until they input 0. The program should print the sum of all the input numbers.\n",
        "\n",
        "\n",
        "\n"
      ],
      "metadata": {
        "id": "LC2EwodwcADb"
      },
      "id": "LC2EwodwcADb"
    },
    {
      "cell_type": "code",
      "source": [
        "sum = 0\n",
        "\n",
        "while True:\n",
        "  num = int(input(\"enter the number: \"))\n",
        "  if num == 0:\n",
        "    break\n",
        "  else:\n",
        "    sum = sum + num\n",
        "\n",
        "print(f'the sum is {sum}')"
      ],
      "metadata": {
        "colab": {
          "base_uri": "https://localhost:8080/"
        },
        "id": "GUMJXEBlcGrO",
        "outputId": "9bf6e1cf-c2b5-4571-f61d-0ba02c6b1fe8"
      },
      "id": "GUMJXEBlcGrO",
      "execution_count": 45,
      "outputs": [
        {
          "output_type": "stream",
          "name": "stdout",
          "text": [
            "enter the number: 7\n",
            "enter the number: 2\n",
            "enter the number: 6\n",
            "enter the number: 0\n",
            "the sum is 15\n"
          ]
        }
      ]
    },
    {
      "cell_type": "markdown",
      "source": [
        "### Assignment 9: continue Statement\n",
        "\n",
        "Write a program that prints all the numbers from 1 to 10 except 5 using a for loop and continue statement.\n"
      ],
      "metadata": {
        "id": "vcjYEJI-cHaS"
      },
      "id": "vcjYEJI-cHaS"
    },
    {
      "cell_type": "code",
      "source": [
        "for i in range(1,11):\n",
        "  if i == 5:\n",
        "    continue\n",
        "  print(i)"
      ],
      "metadata": {
        "colab": {
          "base_uri": "https://localhost:8080/"
        },
        "id": "CoQhOp9ecJAA",
        "outputId": "98a75931-ee61-45ab-bbf7-b9243f0db50a"
      },
      "id": "CoQhOp9ecJAA",
      "execution_count": 48,
      "outputs": [
        {
          "output_type": "stream",
          "name": "stdout",
          "text": [
            "1\n",
            "2\n",
            "3\n",
            "4\n",
            "6\n",
            "7\n",
            "8\n",
            "9\n",
            "10\n"
          ]
        }
      ]
    },
    {
      "cell_type": "markdown",
      "source": [
        "\n",
        "### Assignment 10: pass Statement\n",
        "\n",
        "Write a program that defines an empty function using the pass statement."
      ],
      "metadata": {
        "id": "Y8BoB3tRcNuv"
      },
      "id": "Y8BoB3tRcNuv"
    },
    {
      "cell_type": "code",
      "source": [
        "def func():\n",
        "  pass\n",
        "\n",
        "func()"
      ],
      "metadata": {
        "id": "pQee2mwhcLGA"
      },
      "id": "pQee2mwhcLGA",
      "execution_count": 51,
      "outputs": []
    },
    {
      "cell_type": "markdown",
      "source": [
        "### Assignment 11: Combining Loops and Conditionals\n",
        "\n",
        "Write a program that asks the user to input a number and prints all the even numbers from 1 to that number using a for loop.\n",
        "\n"
      ],
      "metadata": {
        "id": "Cq8t9PJPcUXN"
      },
      "id": "Cq8t9PJPcUXN"
    },
    {
      "cell_type": "code",
      "source": [
        "num = int(input(\"Enter the number: \"))\n",
        "\n",
        "for i in range(1,num+1):\n",
        "  if i%2 == 0:\n",
        "    print(i)"
      ],
      "metadata": {
        "colab": {
          "base_uri": "https://localhost:8080/"
        },
        "id": "7lUQpE_HcWw_",
        "outputId": "1f203c0f-eff6-40be-fa86-816591704714"
      },
      "id": "7lUQpE_HcWw_",
      "execution_count": 54,
      "outputs": [
        {
          "output_type": "stream",
          "name": "stdout",
          "text": [
            "Enter the number: 10\n",
            "2\n",
            "4\n",
            "6\n",
            "8\n",
            "10\n"
          ]
        }
      ]
    },
    {
      "cell_type": "markdown",
      "source": [
        "### Assignment 12: Factorial Calculation\n",
        "\n",
        "Write a program that calculates the factorial of a number input by the user using a while loop.\n",
        "\n"
      ],
      "metadata": {
        "id": "1iBRyj21cXKj"
      },
      "id": "1iBRyj21cXKj"
    },
    {
      "cell_type": "code",
      "source": [
        "num = int(input(\"Enter the number: \"))\n",
        "\n",
        "fact=1\n",
        "i=1\n",
        "\n",
        "while i<=num:\n",
        "  fact=fact*i\n",
        "  i=i+1\n",
        "print(f'factorial of {num} is {fact}')"
      ],
      "metadata": {
        "colab": {
          "base_uri": "https://localhost:8080/"
        },
        "id": "c50JYbOB2pzQ",
        "outputId": "b119e67a-1c79-4d6a-ec59-481ca1b3bd18"
      },
      "id": "c50JYbOB2pzQ",
      "execution_count": 59,
      "outputs": [
        {
          "output_type": "stream",
          "name": "stdout",
          "text": [
            "Enter the number: 5\n",
            "factorial of 5 is 120\n"
          ]
        }
      ]
    },
    {
      "cell_type": "markdown",
      "source": [
        "### Assignment 13: Sum of Digits\n",
        "\n",
        "Write a program that calculates the sum of the digits of a number input by the user using a while loop.\n"
      ],
      "metadata": {
        "id": "FknR-hWJcZnL"
      },
      "id": "FknR-hWJcZnL"
    },
    {
      "cell_type": "code",
      "source": [
        "num = int(input(\"Enter the number: \"))\n",
        "original = num\n",
        "temp = 1\n",
        "sum = 0\n",
        "\n",
        "while num>0:\n",
        "  temp = int(num % 10)\n",
        "  sum = sum + temp\n",
        "  num = num / 10\n",
        "\n",
        "print(f'sum of digits of {original} is: {sum}')"
      ],
      "metadata": {
        "colab": {
          "base_uri": "https://localhost:8080/"
        },
        "id": "wkbJiR5RcbUW",
        "outputId": "ddb58375-3c03-4b32-fb58-d359f98f00f5"
      },
      "id": "wkbJiR5RcbUW",
      "execution_count": 66,
      "outputs": [
        {
          "output_type": "stream",
          "name": "stdout",
          "text": [
            "Enter the number: 6785431\n",
            "sum of digits of 6785431 is: 34\n"
          ]
        }
      ]
    },
    {
      "cell_type": "markdown",
      "source": [
        "\n",
        "### Assignment 14: Prime Number Check\n",
        "\n",
        "Write a program that checks if a number input by the user is a prime number using a for loop.\n"
      ],
      "metadata": {
        "id": "MZfDwFvNcbwa"
      },
      "id": "MZfDwFvNcbwa"
    },
    {
      "cell_type": "code",
      "source": [
        "num = int(input(\"Enter the number: \"))\n",
        "\n",
        "if num < 2:\n",
        "    print(\"Not a prime number\")\n",
        "else:\n",
        "    for i in range(2, num):\n",
        "        if num % i == 0:\n",
        "            print(\"Not a prime number\")\n",
        "            break\n",
        "    else:\n",
        "        print(\"Prime number\")\n",
        ""
      ],
      "metadata": {
        "colab": {
          "base_uri": "https://localhost:8080/"
        },
        "id": "Ymp4eJefcd7j",
        "outputId": "90bc77d1-0e56-4ecd-c2ae-e3466c7f151b"
      },
      "id": "Ymp4eJefcd7j",
      "execution_count": 78,
      "outputs": [
        {
          "output_type": "stream",
          "name": "stdout",
          "text": [
            "Enter the number: 5\n",
            "Prime number\n"
          ]
        }
      ]
    },
    {
      "cell_type": "markdown",
      "source": [
        "\n",
        "### Assignment 15: Fibonacci Sequence\n",
        "\n",
        "Write a program that prints the first n Fibonacci numbers, where n is input by the user."
      ],
      "metadata": {
        "id": "nsxLOW1Zcfci"
      },
      "id": "nsxLOW1Zcfci"
    },
    {
      "cell_type": "code",
      "source": [
        "num = int(input(\"Enter the number: \"))\n",
        "\n",
        "a, b = 0, 1\n",
        "\n",
        "for i in range(num):\n",
        "  print(a, end = \" \")\n",
        "  a, b = b , a + b"
      ],
      "metadata": {
        "colab": {
          "base_uri": "https://localhost:8080/"
        },
        "id": "oYTGNStb65ho",
        "outputId": "4784f0a8-2c43-490d-a4f2-bafa2434b466"
      },
      "id": "oYTGNStb65ho",
      "execution_count": 3,
      "outputs": [
        {
          "output_type": "stream",
          "name": "stdout",
          "text": [
            "Enter the number: 6\n",
            "0 1 1 2 3 5 "
          ]
        }
      ]
    }
  ],
  "metadata": {
    "kernelspec": {
      "display_name": "Python 3",
      "language": "python",
      "name": "python3"
    },
    "language_info": {
      "codemirror_mode": {
        "name": "ipython",
        "version": 3
      },
      "file_extension": ".py",
      "mimetype": "text/x-python",
      "name": "python",
      "nbconvert_exporter": "python",
      "pygments_lexer": "ipython3",
      "version": "3.9.7"
    },
    "colab": {
      "provenance": []
    }
  },
  "nbformat": 4,
  "nbformat_minor": 5
}