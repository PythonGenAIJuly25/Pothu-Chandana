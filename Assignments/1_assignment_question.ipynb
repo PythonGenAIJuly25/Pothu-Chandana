{
  "cells": [
    {
      "cell_type": "markdown",
      "metadata": {
        "id": "ieRJUaseclTk"
      },
      "source": [
        "# Python Basics\n",
        "## Topics Covered:\n",
        "- Syntax and Semantics\n",
        "- Variables and Data Types\n",
        "- Basic Operators (Arithmetic, Comparison, Logical)\n"
      ]
    },
    {
      "cell_type": "markdown",
      "metadata": {
        "id": "hoclDAhJclTn"
      },
      "source": [
        "## 1. Syntax and Semantics\n",
        "\n",
        "**Question 1:** Write a Python program to print \"Hello, World!\"."
      ]
    },
    {
      "cell_type": "code",
      "execution_count": null,
      "metadata": {
        "colab": {
          "base_uri": "https://localhost:8080/"
        },
        "id": "aRc921gNclTo",
        "outputId": "32ca571d-1f69-4c68-a3ca-35734bb94735"
      },
      "outputs": [
        {
          "output_type": "stream",
          "name": "stdout",
          "text": [
            "Hello, World!\n"
          ]
        }
      ],
      "source": [
        "# Your code here\n",
        "print(\"Hello, World!\")"
      ]
    },
    {
      "cell_type": "markdown",
      "metadata": {
        "id": "L4O0a8qfclTp"
      },
      "source": [
        "**Question 2:** Write a Python program that takes a user input and prints it."
      ]
    },
    {
      "cell_type": "code",
      "execution_count": null,
      "metadata": {
        "colab": {
          "base_uri": "https://localhost:8080/"
        },
        "id": "NQcevFJSclTp",
        "outputId": "385b60c0-22a0-4226-9356-368614149c2c"
      },
      "outputs": [
        {
          "output_type": "stream",
          "name": "stdout",
          "text": [
            "Enter Name: Chandana\n",
            "Chandana\n"
          ]
        }
      ],
      "source": [
        "# Your code here\n",
        "user_input = input(\"Enter Name: \")\n",
        "print(user_input)"
      ]
    },
    {
      "cell_type": "markdown",
      "metadata": {
        "id": "UV1-8h-XclTp"
      },
      "source": [
        "**Question 3:** Write a Python program to check if a number is positive, negative, or zero."
      ]
    },
    {
      "cell_type": "code",
      "execution_count": null,
      "metadata": {
        "colab": {
          "base_uri": "https://localhost:8080/"
        },
        "id": "IGBd6zVqclTp",
        "outputId": "6c9c100c-6484-44cd-adf5-ac248b70ecf6"
      },
      "outputs": [
        {
          "output_type": "stream",
          "name": "stdout",
          "text": [
            "Enter the Number: 0\n",
            "Zero\n"
          ]
        }
      ],
      "source": [
        "# Your code here\n",
        "num = int(input(\"Enter the Number: \"))\n",
        "if num > 0:\n",
        "    print(\"Positive\")\n",
        "elif num < 0:\n",
        "    print(\"Negative\")\n",
        "else:\n",
        "    print(\"Zero\")"
      ]
    },
    {
      "cell_type": "markdown",
      "metadata": {
        "id": "QBRUlpGEclTq"
      },
      "source": [
        "**Question 4:** Write a Python program to find the largest of three numbers."
      ]
    },
    {
      "cell_type": "code",
      "execution_count": null,
      "metadata": {
        "colab": {
          "base_uri": "https://localhost:8080/"
        },
        "id": "PE0LjG89clTq",
        "outputId": "7ad76915-a718-4085-ad64-6f503c7ff080"
      },
      "outputs": [
        {
          "output_type": "stream",
          "name": "stdout",
          "text": [
            "Enter the Number: 65\n",
            "Enter the Number: 67\n",
            "Enter the Number: 22\n",
            "67 is geater\n"
          ]
        }
      ],
      "source": [
        "# Your code here\n",
        "num1 = int(input(\"Enter the Number: \"))\n",
        "num2 = int(input(\"Enter the Number: \"))\n",
        "num3 = int(input(\"Enter the Number: \"))\n",
        "\n",
        "if num1 > num2 and num1 > num3:\n",
        "    print(f'{num1} is greater')\n",
        "elif num2 > num1 and num2 > num3:\n",
        "    print(f'{num2} is geater')\n",
        "else:\n",
        "    print(f'{num3} is geater')"
      ]
    },
    {
      "cell_type": "markdown",
      "metadata": {
        "id": "JGl0HphbclTq"
      },
      "source": [
        "**Question 5:** Write a Python program to calculate the factorial of a number."
      ]
    },
    {
      "cell_type": "code",
      "execution_count": null,
      "metadata": {
        "colab": {
          "base_uri": "https://localhost:8080/"
        },
        "id": "YcJ2VSVwclTr",
        "outputId": "a9cfaee8-c0a3-4024-f326-09eefe70826f"
      },
      "outputs": [
        {
          "output_type": "stream",
          "name": "stdout",
          "text": [
            "Enter the Number: 3\n",
            "Factorial of 3 is 6\n"
          ]
        }
      ],
      "source": [
        "# Your code here\n",
        "num = int(input(\"Enter the Number: \"))\n",
        "\n",
        "fact = 1\n",
        "for i in range(1, num+1):\n",
        "    fact = fact*i\n",
        "print(f'Factorial of {num} is {fact}')"
      ]
    },
    {
      "cell_type": "markdown",
      "metadata": {
        "id": "aLwoYHd9clTr"
      },
      "source": [
        "## 2. Variables and Data Types\n",
        "\n",
        "**Question 6:** Create variables of different data types: integer, float, string, and boolean. Print their values and types."
      ]
    },
    {
      "cell_type": "code",
      "execution_count": null,
      "metadata": {
        "colab": {
          "base_uri": "https://localhost:8080/"
        },
        "id": "x3wlW9fOclTr",
        "outputId": "dfd136fb-228a-4a4c-cd61-b9fe8fc88707"
      },
      "outputs": [
        {
          "output_type": "stream",
          "name": "stdout",
          "text": [
            "The value of Integer is 23 and its type is <class 'int'>\n",
            "The value of float is 33.33 and its type is <class 'float'>\n",
            "The value of String is Revature and its type is <class 'str'>\n",
            "The value of Integer is True and its type is <class 'bool'>\n"
          ]
        }
      ],
      "source": [
        "# Your code here\n",
        "\n",
        "int_dtype = 23\n",
        "float_dtype = 33.33\n",
        "string_dtype = \"Revature\"\n",
        "bool_dtype = True\n",
        "\n",
        "print(f'The value of Integer is {int_dtype} and its type is {type(int_dtype)}')\n",
        "print(f'The value of float is {float_dtype} and its type is {type(float_dtype)}')\n",
        "print(f'The value of String is {string_dtype} and its type is {type(string_dtype)}')\n",
        "print(f'The value of Integer is {bool_dtype} and its type is {type(bool_dtype)}')"
      ]
    },
    {
      "cell_type": "markdown",
      "metadata": {
        "id": "-oXDqG7gclTr"
      },
      "source": [
        "**Question 7:** Write a Python program to swap the values of two variables."
      ]
    },
    {
      "cell_type": "code",
      "execution_count": null,
      "metadata": {
        "colab": {
          "base_uri": "https://localhost:8080/"
        },
        "id": "3pMsNgYvclTr",
        "outputId": "fce3dfc6-2e22-4ef2-ede0-6e69a378e466"
      },
      "outputs": [
        {
          "output_type": "stream",
          "name": "stdout",
          "text": [
            "Before swapping the num1 and num2 are 2 3\n",
            "After swapping the num1 and num2 are 3 2\n"
          ]
        }
      ],
      "source": [
        "# Your code here\n",
        "num1 = 2\n",
        "num2 = 3\n",
        "\n",
        "print(f'Before swapping the num1 and num2 are {num1} {num2}')\n",
        "\n",
        "#num1, num2 = num2, num1\n",
        "temp = num1\n",
        "num1 = num2\n",
        "num2 = temp\n",
        "\n",
        "print(f'After swapping the num1 and num2 are {num1} {num2}')"
      ]
    },
    {
      "cell_type": "markdown",
      "metadata": {
        "id": "z0snET-8clTr"
      },
      "source": [
        "**Question 8:** Write a Python program to convert Celsius to Fahrenheit."
      ]
    },
    {
      "cell_type": "code",
      "execution_count": null,
      "metadata": {
        "colab": {
          "base_uri": "https://localhost:8080/"
        },
        "id": "2odQUwwJclTr",
        "outputId": "fb3d25cf-8b1c-4753-f3ba-9f33c897b0ee"
      },
      "outputs": [
        {
          "output_type": "stream",
          "name": "stdout",
          "text": [
            "37.5 degree Celsius is equal to 99.5 degree Fahrenheit\n"
          ]
        }
      ],
      "source": [
        "# Your code here\n",
        "\n",
        "celsius = 37.5\n",
        "\n",
        "# calculate fahrenheit\n",
        "fahrenheit = (celsius * 1.8) + 32\n",
        "print(f'{celsius} degree Celsius is equal to {fahrenheit} degree Fahrenheit')"
      ]
    },
    {
      "cell_type": "markdown",
      "metadata": {
        "id": "bLIzx8OKclTs"
      },
      "source": [
        "**Question 9:** Write a Python program to concatenate two strings."
      ]
    },
    {
      "cell_type": "code",
      "execution_count": null,
      "metadata": {
        "colab": {
          "base_uri": "https://localhost:8080/"
        },
        "id": "aob32GwTclTs",
        "outputId": "297d23fc-3c49-4a66-f8fb-b58d3e91fad0"
      },
      "outputs": [
        {
          "output_type": "stream",
          "name": "stdout",
          "text": [
            "Welcome Revature\n"
          ]
        }
      ],
      "source": [
        "# Your code here\n",
        "string1 = \"Welcome\"\n",
        "string2 = \"Revature\"\n",
        "\n",
        "Sentence = string1 + \" \" + string2\n",
        "print(Sentence)"
      ]
    },
    {
      "cell_type": "markdown",
      "metadata": {
        "id": "N550XM_iclTs"
      },
      "source": [
        "**Question 10:** Write a Python program to check if a variable is of a specific data type."
      ]
    },
    {
      "cell_type": "code",
      "execution_count": null,
      "metadata": {
        "colab": {
          "base_uri": "https://localhost:8080/"
        },
        "id": "p3oqqY3TclTs",
        "outputId": "a9bfc059-8cdb-4395-bdaa-5479a13ce39a"
      },
      "outputs": [
        {
          "output_type": "stream",
          "name": "stdout",
          "text": [
            "Float\n"
          ]
        }
      ],
      "source": [
        "# Your code here\n",
        "value = 99.04\n",
        "\n",
        "if type(value) == int:\n",
        "  print(\"Integer\")\n",
        "elif type(value) == float:\n",
        "  print(\"Float\")\n",
        "elif type(value) == str:\n",
        "  print(\"String\")\n",
        "elif type(value) == bool:\n",
        "  print(\"Boolean\")\n",
        "else:\n",
        "  print(\"Enter valid value\")\n"
      ]
    },
    {
      "cell_type": "markdown",
      "metadata": {
        "id": "dSxX48_dclTs"
      },
      "source": [
        "## 3. Basic Operators (Arithmetic, Comparison, Logical)\n",
        "\n",
        "**Question 11:** Write a Python program to perform arithmetic operations: addition, subtraction, multiplication, and division."
      ]
    },
    {
      "cell_type": "code",
      "execution_count": null,
      "metadata": {
        "colab": {
          "base_uri": "https://localhost:8080/"
        },
        "id": "hpmvvwsWclTs",
        "outputId": "1917d2fd-6db9-4053-f99c-327bbf078c2c"
      },
      "outputs": [
        {
          "output_type": "stream",
          "name": "stdout",
          "text": [
            "Enter the number1: 4\n",
            "Enter the number2: 2\n",
            "The addition of 4 and 2 is 6\n",
            "The subtraction of 4 and 2 is 2\n",
            "The Multiplication of 4 and 2 is 8\n",
            "The Divison of 4 and 2 is 2.0\n"
          ]
        }
      ],
      "source": [
        "# Your code here\n",
        "num1 = int(input(\"Enter the number1: \"))\n",
        "num2 = int(input(\"Enter the number2: \"))\n",
        "\n",
        "print(f'The addition of {num1} and {num2} is {num1+num2}')\n",
        "print(f'The subtraction of {num1} and {num2} is {num1-num2}')\n",
        "print(f'The Multiplication of {num1} and {num2} is {num1*num2}')\n",
        "print(f'The Divison of {num1} and {num2} is {num1/num2}')\n"
      ]
    },
    {
      "cell_type": "markdown",
      "metadata": {
        "id": "73-isJeBclTs"
      },
      "source": [
        "**Question 12:** Write a Python program to demonstrate comparison operators: equal to, not equal to, greater than, less than."
      ]
    },
    {
      "cell_type": "code",
      "execution_count": null,
      "metadata": {
        "colab": {
          "base_uri": "https://localhost:8080/"
        },
        "id": "Aki3fCVBclTs",
        "outputId": "60576022-5fc7-4504-bd01-4c40220da968"
      },
      "outputs": [
        {
          "output_type": "stream",
          "name": "stdout",
          "text": [
            "Enter the number1: 6\n",
            "Enter the number2: 7\n",
            "6 is equal to 7  :  False\n",
            "6 is not equal to 7  :  True\n",
            "6 is less than 7  :  True\n",
            "6 is gerater than 7  :  False\n"
          ]
        }
      ],
      "source": [
        "# Your code here\n",
        "num1 = int(input(\"Enter the number1: \"))\n",
        "num2 = int(input(\"Enter the number2: \"))\n",
        "\n",
        "print(f'{num1} is equal to {num2}',' : ', num1 ==  num2)\n",
        "print(f'{num1} is not equal to {num2}',' : ', num1 != num2)\n",
        "print(f'{num1} is less than {num2}',' : ', num1 < num2)\n",
        "print(f'{num1} is gerater than {num2}',' : ', num1 > num2)"
      ]
    },
    {
      "cell_type": "markdown",
      "metadata": {
        "id": "e5Qj6Nc2clTs"
      },
      "source": [
        "**Question 13:** Write a Python program to demonstrate logical operators: and, or, not."
      ]
    },
    {
      "cell_type": "code",
      "execution_count": null,
      "metadata": {
        "colab": {
          "base_uri": "https://localhost:8080/"
        },
        "id": "NAlPlXfAclTt",
        "outputId": "ec212a2c-e864-4a37-edd2-63f84f84cabc"
      },
      "outputs": [
        {
          "output_type": "stream",
          "name": "stdout",
          "text": [
            "False and True  :  False\n",
            "not True  :  False\n",
            "False or True  :  True\n"
          ]
        }
      ],
      "source": [
        "# Your code here\n",
        "num1 = False\n",
        "num2 = True\n",
        "\n",
        "print(f'{num1} and {num2}',' : ', num1 and  num2)\n",
        "print(f'not {num2}',' : ', not num2)\n",
        "print(f'{num1} or {num2}', ' : ', num1 or num2)"
      ]
    },
    {
      "cell_type": "markdown",
      "metadata": {
        "id": "eMr3SPikclTt"
      },
      "source": [
        "**Question 14:** Write a Python program to calculate the square of a number."
      ]
    },
    {
      "cell_type": "code",
      "execution_count": null,
      "metadata": {
        "colab": {
          "base_uri": "https://localhost:8080/"
        },
        "id": "EPfuGE1HclTt",
        "outputId": "7bd3890f-9184-4bf2-d000-92847f427a38"
      },
      "outputs": [
        {
          "output_type": "stream",
          "name": "stdout",
          "text": [
            "the square of the 5 is 25\n"
          ]
        }
      ],
      "source": [
        "# Your code here\n",
        "num = 5\n",
        "\n",
        "square = num ** 2\n",
        "print(\"the square of the\", num, \"is\", square)"
      ]
    },
    {
      "cell_type": "markdown",
      "metadata": {
        "id": "Z8leXZ_xclTt"
      },
      "source": [
        "**Question 15:** Write a Python program to check if a number is even or odd."
      ]
    },
    {
      "cell_type": "code",
      "execution_count": null,
      "metadata": {
        "colab": {
          "base_uri": "https://localhost:8080/"
        },
        "id": "inmCC4gRclTt",
        "outputId": "26339525-6afa-4674-ab12-eb5fb5869d64"
      },
      "outputs": [
        {
          "output_type": "stream",
          "name": "stdout",
          "text": [
            "enter the number: 7\n",
            "The number is odd\n"
          ]
        }
      ],
      "source": [
        "# Your code here\n",
        "num = int(input(\"enter the number: \"))\n",
        "\n",
        "if num % 2 == 0:\n",
        "  print(\"The number is even\")\n",
        "else:\n",
        "  print(\"The number is odd\")"
      ]
    },
    {
      "cell_type": "markdown",
      "metadata": {
        "id": "cspsE98PclTt"
      },
      "source": [
        "**Question 16:** Write a Python program to find the sum of the first n natural numbers."
      ]
    },
    {
      "cell_type": "code",
      "execution_count": null,
      "metadata": {
        "colab": {
          "base_uri": "https://localhost:8080/"
        },
        "id": "8p-CxW_YclTt",
        "outputId": "bae9ec36-3cd9-4814-e0f4-c2654021b691"
      },
      "outputs": [
        {
          "output_type": "stream",
          "name": "stdout",
          "text": [
            "enter the number: 8\n",
            "36\n"
          ]
        }
      ],
      "source": [
        "# Your code here\n",
        "num = int(input(\"enter the number: \"))\n",
        "\n",
        "sum = 0\n",
        "for i in range(1, num+1):\n",
        "  sum = sum+i\n",
        "print(sum)"
      ]
    },
    {
      "cell_type": "markdown",
      "metadata": {
        "id": "P-gOB0iiclTt"
      },
      "source": [
        "**Question 17:** Write a Python program to check if a year is a leap year."
      ]
    },
    {
      "cell_type": "code",
      "execution_count": null,
      "metadata": {
        "colab": {
          "base_uri": "https://localhost:8080/"
        },
        "id": "oJQ7vC7dclTt",
        "outputId": "4e98c238-da28-48f4-c9ae-d48d7404bf1f"
      },
      "outputs": [
        {
          "output_type": "stream",
          "name": "stdout",
          "text": [
            "2025 is not a leap year\n"
          ]
        }
      ],
      "source": [
        "# Your code here\n",
        "year = 2025\n",
        "\n",
        "if (year%4 == 0 and year%100 != 0) or (year%400 == 0):\n",
        "  print(f'{year} is a leap year')\n",
        "else:\n",
        "  print(f'{year} is not a leap year')"
      ]
    },
    {
      "cell_type": "markdown",
      "metadata": {
        "id": "PG8-MtXkclTt"
      },
      "source": [
        "**Question 18:** Write a Python program to reverse a string."
      ]
    },
    {
      "cell_type": "code",
      "execution_count": null,
      "metadata": {
        "colab": {
          "base_uri": "https://localhost:8080/"
        },
        "id": "4UeI3KMHclTt",
        "outputId": "8834849c-29a2-4dbd-dcea-bb5cc4780842"
      },
      "outputs": [
        {
          "output_type": "stream",
          "name": "stdout",
          "text": [
            "olleH\n"
          ]
        }
      ],
      "source": [
        "# Your code here\n",
        "string1 = \"Hello\"\n",
        "\n",
        "reverse = string1[::-1]\n",
        "print(reverse)"
      ]
    },
    {
      "cell_type": "markdown",
      "metadata": {
        "id": "QG5IxgNKclTt"
      },
      "source": [
        "**Question 19:** Write a Python program to check if a string is a palindrome."
      ]
    },
    {
      "cell_type": "code",
      "execution_count": null,
      "metadata": {
        "colab": {
          "base_uri": "https://localhost:8080/"
        },
        "id": "t9USGnQ0clTu",
        "outputId": "b739c230-3a32-454c-9b14-0e7b67ab46be"
      },
      "outputs": [
        {
          "output_type": "stream",
          "name": "stdout",
          "text": [
            "madam is a palindrome\n"
          ]
        }
      ],
      "source": [
        "# Your code here\n",
        "string1 = \"madam\"\n",
        "\n",
        "reverse = string1[::-1]\n",
        "if string1 == reverse:\n",
        "  print(f'{string1} is a palindrome')\n",
        "else:\n",
        "  print(f'{string1} is not a palindrome')"
      ]
    },
    {
      "cell_type": "markdown",
      "metadata": {
        "id": "0c-43wpWclTz"
      },
      "source": [
        "**Question 20:** Write a Python program to sort a list of numbers in ascending order."
      ]
    },
    {
      "cell_type": "code",
      "execution_count": null,
      "metadata": {
        "colab": {
          "base_uri": "https://localhost:8080/"
        },
        "id": "J0ct6Ws7clTz",
        "outputId": "2133f80a-5b91-42de-b12c-889f30b42e06"
      },
      "outputs": [
        {
          "output_type": "stream",
          "name": "stdout",
          "text": [
            "[0, 1, 7, 22, 44, 66]\n",
            "[66, 44, 22, 7, 1, 0]\n"
          ]
        }
      ],
      "source": [
        "# Your code here\n",
        "list1 = [44, 66, 22, 7, 1, 0]\n",
        "\n",
        "list1.sort()\n",
        "print(list1)\n",
        "\n",
        "# descending\n",
        "\n",
        "list1.sort(reverse=True)\n",
        "print(list1)"
      ]
    }
  ],
  "metadata": {
    "kernelspec": {
      "display_name": "Python 3",
      "language": "python",
      "name": "python3"
    },
    "language_info": {
      "codemirror_mode": {
        "name": "ipython",
        "version": 3
      },
      "file_extension": ".py",
      "mimetype": "text/x-python",
      "name": "python",
      "nbconvert_exporter": "python",
      "pygments_lexer": "ipython3",
      "version": "3.8.5"
    },
    "colab": {
      "provenance": []
    }
  },
  "nbformat": 4,
  "nbformat_minor": 0
}