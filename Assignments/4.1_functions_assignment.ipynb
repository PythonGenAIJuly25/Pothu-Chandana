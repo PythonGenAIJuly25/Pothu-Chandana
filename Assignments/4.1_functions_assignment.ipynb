{
  "nbformat": 4,
  "nbformat_minor": 0,
  "metadata": {
    "colab": {
      "provenance": []
    },
    "kernelspec": {
      "name": "python3",
      "display_name": "Python 3"
    },
    "language_info": {
      "name": "python"
    }
  },
  "cells": [
    {
      "cell_type": "markdown",
      "source": [
        "# Module 4: Functions Assignments\n",
        "## Lesson 4.1: Defining Functions\n",
        "### Assignment 1: Simple Function\n",
        "\n",
        "Define a function that takes a single integer as input and returns its square. Test the function with different inputs."
      ],
      "metadata": {
        "id": "H31KPuuGc8BP"
      }
    },
    {
      "cell_type": "code",
      "execution_count": null,
      "metadata": {
        "colab": {
          "base_uri": "https://localhost:8080/"
        },
        "id": "2WuOAW-Nc68e",
        "outputId": "5cd92bc8-1774-48ff-bc3f-a78f092234ff"
      },
      "outputs": [
        {
          "output_type": "stream",
          "name": "stdout",
          "text": [
            "9\n"
          ]
        }
      ],
      "source": [
        "def func(num):\n",
        "  return num**2\n",
        "\n",
        "print(func(3))"
      ]
    },
    {
      "cell_type": "markdown",
      "source": [
        "### Assignment 2: Multiple Arguments\n",
        "\n",
        "Define a function that takes two integers as input and returns their sum. Test the function with different inputs."
      ],
      "metadata": {
        "id": "AouPCYYnc94t"
      }
    },
    {
      "cell_type": "code",
      "source": [
        "def add_numbers(a, b):\n",
        "    return a + b\n",
        "\n",
        "print(add_numbers(2, 3))\n",
        "print(add_numbers(12, -3))\n",
        "print(add_numbers(2, 33))"
      ],
      "metadata": {
        "colab": {
          "base_uri": "https://localhost:8080/"
        },
        "id": "hhdmwoQQdARG",
        "outputId": "d103d436-9954-4289-b29a-2002b4ff32c7"
      },
      "execution_count": null,
      "outputs": [
        {
          "output_type": "stream",
          "name": "stdout",
          "text": [
            "5\n",
            "9\n",
            "35\n"
          ]
        }
      ]
    },
    {
      "cell_type": "markdown",
      "source": [
        "### Assignment 3: Default Arguments\n",
        "\n",
        "Define a function that takes two integers as input and returns their sum. The second integer should have a default value of 5. Test the function with different inputs."
      ],
      "metadata": {
        "id": "Fw1IX3NtdA8G"
      }
    },
    {
      "cell_type": "code",
      "source": [
        "def add_numbers(a, b=5):\n",
        "    return a + b\n",
        "\n",
        "print(add_numbers(10))\n",
        "print(add_numbers(12, -3))\n",
        "print(add_numbers(2))"
      ],
      "metadata": {
        "colab": {
          "base_uri": "https://localhost:8080/"
        },
        "id": "NMRhxVHWdCpQ",
        "outputId": "c74029ee-9a7b-4888-a524-21986f14d1f0"
      },
      "execution_count": null,
      "outputs": [
        {
          "output_type": "stream",
          "name": "stdout",
          "text": [
            "15\n",
            "9\n",
            "7\n"
          ]
        }
      ]
    },
    {
      "cell_type": "markdown",
      "source": [
        "### Assignment 4: Keyword Arguments\n",
        "\n",
        "Define a function that takes three named arguments: first_name, last_name, and age, and returns a formatted string. Test the function with different inputs"
      ],
      "metadata": {
        "id": "0PdkyRKVdDSX"
      }
    },
    {
      "cell_type": "code",
      "source": [
        "def func(first_name, last_name, age):\n",
        "    return f\"{first_name} {last_name} is {age} years old.\"\n",
        "\n",
        "print(func(first_name=\"chandu\", last_name=\"Sony\", age=30))\n",
        "print(func(first_name=\"Chandrika\", last_name=\"Bhukya\", age=25))\n",
        "print(func(first_name=\"Chandana\", last_name=\"Pothu\", age=22))"
      ],
      "metadata": {
        "colab": {
          "base_uri": "https://localhost:8080/"
        },
        "id": "ETrCXEI4dGDo",
        "outputId": "729ecf04-f6b6-494f-b804-4efa85e24625"
      },
      "execution_count": null,
      "outputs": [
        {
          "output_type": "stream",
          "name": "stdout",
          "text": [
            "chandu Sony is 30 years old.\n",
            "Chandrika Bhukya is 25 years old.\n",
            "Chandana Pothu is 22 years old.\n"
          ]
        }
      ]
    },
    {
      "cell_type": "markdown",
      "source": [
        "### Assignment 5: Variable-length Arguments\n",
        "\n",
        "Define a function that takes a variable number of integer arguments and returns their product. Test the function with different inputs."
      ],
      "metadata": {
        "id": "5rq2hy3YdG2B"
      }
    },
    {
      "cell_type": "code",
      "source": [
        "def multiply(*args):\n",
        "\n",
        "    product = 1\n",
        "    for num in args:\n",
        "        product *= num\n",
        "    return product\n",
        "\n",
        "print(multiply(2, 3))\n",
        "print(multiply(1, 2, 3, 4))\n",
        "print(multiply(5))\n",
        "print(multiply())\n"
      ],
      "metadata": {
        "colab": {
          "base_uri": "https://localhost:8080/"
        },
        "id": "P4GVXgGpdI2T",
        "outputId": "0761a076-4a2d-49d7-de93-24331cf33bb3"
      },
      "execution_count": null,
      "outputs": [
        {
          "output_type": "stream",
          "name": "stdout",
          "text": [
            "6\n",
            "24\n",
            "5\n",
            "1\n"
          ]
        }
      ]
    },
    {
      "cell_type": "markdown",
      "source": [
        "### Assignment 6: Nested Functions\n",
        "\n",
        "Define a function that contains another function inside it. The outer function should take two integers as input and return the result of the inner function, which multiplies the two integers. Test the function with different inputs."
      ],
      "metadata": {
        "id": "jtZ9mdgEdJaq"
      }
    },
    {
      "cell_type": "code",
      "source": [
        "def outer_function(a, b):\n",
        "    def inner_function(x, y):\n",
        "        return x * y\n",
        "    return inner_function(a, b)\n",
        "\n",
        "print(outer_function(2, 3))\n",
        "print(outer_function(4, 5))\n",
        "print(outer_function(10, 0))"
      ],
      "metadata": {
        "colab": {
          "base_uri": "https://localhost:8080/"
        },
        "id": "jbVR0R72dLpR",
        "outputId": "613d6cc3-3f44-44f5-bd64-c8380b70fbf1"
      },
      "execution_count": null,
      "outputs": [
        {
          "output_type": "stream",
          "name": "stdout",
          "text": [
            "6\n",
            "20\n",
            "0\n"
          ]
        }
      ]
    },
    {
      "cell_type": "markdown",
      "source": [
        "### Assignment 7: Returning Multiple Values\n",
        "\n",
        "Define a function that takes a single integer as input and returns the integer squared, cubed, and raised to the power of four. Test the function with different inputs."
      ],
      "metadata": {
        "id": "OZgxS_HSdMKk"
      }
    },
    {
      "cell_type": "code",
      "source": [
        "def power_func(n):\n",
        "    return n**2, n**3, n**4\n",
        "\n",
        "print(power_func(2))\n",
        "print(power_func(3))\n",
        "print(power_func(0))\n",
        "print(power_func(-2))"
      ],
      "metadata": {
        "colab": {
          "base_uri": "https://localhost:8080/"
        },
        "id": "YJqPIUHMdOA9",
        "outputId": "170cf634-c970-4c6d-b38e-7bceef07be43"
      },
      "execution_count": null,
      "outputs": [
        {
          "output_type": "stream",
          "name": "stdout",
          "text": [
            "(4, 8, 16)\n",
            "(9, 27, 81)\n",
            "(0, 0, 0)\n",
            "(4, -8, 16)\n"
          ]
        }
      ]
    },
    {
      "cell_type": "markdown",
      "source": [
        "### Assignment 8: Recursive Function\n",
        "\n",
        "Define a recursive function that calculates the factorial of a given number. Test the function with different inputs."
      ],
      "metadata": {
        "id": "wXZVJgkKdOas"
      }
    },
    {
      "cell_type": "code",
      "source": [
        "def fact(n):\n",
        "    if n == 0 or n == 1:\n",
        "        return 1\n",
        "    else:\n",
        "        return n * fact(n - 1)\n",
        "\n",
        "print(fact(0))\n",
        "print(fact(1))\n",
        "print(fact(5))\n",
        "print(fact(7))"
      ],
      "metadata": {
        "colab": {
          "base_uri": "https://localhost:8080/"
        },
        "id": "goQb3LusdQgs",
        "outputId": "8415eeee-4f78-403e-dd2a-cb20a5eccd4e"
      },
      "execution_count": null,
      "outputs": [
        {
          "output_type": "stream",
          "name": "stdout",
          "text": [
            "1\n",
            "1\n",
            "120\n",
            "5040\n"
          ]
        }
      ]
    },
    {
      "cell_type": "markdown",
      "source": [
        "### Assignment 9: Lambda Function\n",
        "\n",
        "Define a lambda function that takes two integers as input and returns their sum. Test the lambda function with different inputs."
      ],
      "metadata": {
        "id": "qWC82yfudQ9U"
      }
    },
    {
      "cell_type": "code",
      "source": [
        "add = lambda a, b: a + b\n",
        "\n",
        "print(add(13, 4))\n",
        "print(add(10, 10))\n",
        "print(add(-5, 5))\n",
        "print(add(0, 0))"
      ],
      "metadata": {
        "colab": {
          "base_uri": "https://localhost:8080/"
        },
        "id": "pYhHQucgdS7j",
        "outputId": "50f203fc-e0d3-4e58-ad79-3007ffe772e2"
      },
      "execution_count": null,
      "outputs": [
        {
          "output_type": "stream",
          "name": "stdout",
          "text": [
            "17\n",
            "20\n",
            "0\n",
            "0\n"
          ]
        }
      ]
    },
    {
      "cell_type": "markdown",
      "source": [
        "### Assignment 10: Map Function\n",
        "\n",
        "Use the map function to apply a lambda function that squares each number in a list of integers. Test with different lists."
      ],
      "metadata": {
        "id": "LxL9VTwkdTjP"
      }
    },
    {
      "cell_type": "code",
      "source": [
        "numbers = [1, 2, 3, 4, 5]\n",
        "squared = list(map(lambda x: x**2, numbers))\n",
        "print(squared)\n",
        "\n",
        "numbers2 = [6, 7, 8]\n",
        "squared2 = list(map(lambda x: x**2, numbers2))\n",
        "print(squared2)"
      ],
      "metadata": {
        "colab": {
          "base_uri": "https://localhost:8080/"
        },
        "id": "M5CReJ85dVf3",
        "outputId": "2bf8b354-9c38-41ec-d06e-9f25e05115d6"
      },
      "execution_count": null,
      "outputs": [
        {
          "output_type": "stream",
          "name": "stdout",
          "text": [
            "[1, 4, 9, 16, 25]\n",
            "[36, 49, 64]\n"
          ]
        }
      ]
    },
    {
      "cell_type": "markdown",
      "source": [
        "### Assignment 11: Filter Function\n",
        "\n",
        "Use the filter function to filter out all odd numbers from a list of integers. Test with different lists."
      ],
      "metadata": {
        "id": "JJH-OI3tdV5q"
      }
    },
    {
      "cell_type": "code",
      "source": [
        "numbers = [1, 2, 3, 4, 5, 6]\n",
        "even_numbers = list(filter(lambda x: x % 2 == 0, numbers))\n",
        "print(even_numbers)\n",
        "\n",
        "numbers2 = [10, 15, 21, 28, 30]\n",
        "even_numbers2 = list(filter(lambda x: x % 2 == 0, numbers2))\n",
        "print(even_numbers2)"
      ],
      "metadata": {
        "colab": {
          "base_uri": "https://localhost:8080/"
        },
        "id": "ZBcUWTogdX_-",
        "outputId": "a7fde44d-56b2-4bd2-9be7-3930e9e645e3"
      },
      "execution_count": null,
      "outputs": [
        {
          "output_type": "stream",
          "name": "stdout",
          "text": [
            "[2, 4, 6]\n",
            "[10, 28, 30]\n"
          ]
        }
      ]
    },
    {
      "cell_type": "markdown",
      "source": [
        "### Assignment 12: Function Decorator\n",
        "\n",
        "Define a decorator function that prints 'Executing function...' before executing a function and 'Function executed.' after executing it. Apply this decorator to a function that takes a list of integers and returns their sum. Test the decorated function with different lists."
      ],
      "metadata": {
        "id": "ssiGVM_6dYj1"
      }
    },
    {
      "cell_type": "code",
      "source": [
        "def decorator_func(func):\n",
        "    def wrapper_func(lst):\n",
        "        print(\"Executing function\")\n",
        "        result = func(lst)\n",
        "        print(\"Function executed\")\n",
        "        return result\n",
        "    return wrapper_func\n",
        "\n",
        "@decorator_func\n",
        "def add_numbers(lst):\n",
        "    return sum(lst)\n",
        "\n",
        "print(add_numbers([1, 2, 3]))\n",
        "print(add_numbers([5, 5]))"
      ],
      "metadata": {
        "id": "1uhrxVXAdaZq",
        "colab": {
          "base_uri": "https://localhost:8080/"
        },
        "outputId": "27bc17f8-809b-4967-e122-0123e6f43f5a"
      },
      "execution_count": 1,
      "outputs": [
        {
          "output_type": "stream",
          "name": "stdout",
          "text": [
            "Executing function\n",
            "Function executed\n",
            "6\n",
            "Executing function\n",
            "Function executed\n",
            "10\n"
          ]
        }
      ]
    },
    {
      "cell_type": "markdown",
      "source": [
        "### Assignment 13: Function with *args and **kwargs\n",
        "\n",
        "Define a function that takes variable-length arguments and keyword arguments and prints them. Test the function with different inputs."
      ],
      "metadata": {
        "id": "OrG0HRd7dbBa"
      }
    },
    {
      "cell_type": "code",
      "source": [
        "def func_args_kwargs(*args, **kwargs):\n",
        "    print(\"Positional arguments:\", args)\n",
        "    print(\"Keyword arguments:\", kwargs)\n",
        "\n",
        "\n",
        "func_args_kwargs(1, 2, 3, a=10, b=20)\n",
        "\n",
        "func_args_kwargs('apple', 'banana', fruit='mango', quantity=3)\n",
        "func_args_kwargs()"
      ],
      "metadata": {
        "colab": {
          "base_uri": "https://localhost:8080/"
        },
        "id": "ikteXD8_ddEl",
        "outputId": "ac7cdf65-9617-450f-915a-55b99f78374e"
      },
      "execution_count": 2,
      "outputs": [
        {
          "output_type": "stream",
          "name": "stdout",
          "text": [
            "Positional arguments: (1, 2, 3)\n",
            "Keyword arguments: {'a': 10, 'b': 20}\n",
            "Positional arguments: ('apple', 'banana')\n",
            "Keyword arguments: {'fruit': 'mango', 'quantity': 3}\n",
            "Positional arguments: ()\n",
            "Keyword arguments: {}\n"
          ]
        }
      ]
    },
    {
      "cell_type": "markdown",
      "source": [
        "### Assignment 14: Higher-Order Function\n",
        "\n",
        "Define a higher-order function that takes a function and a list of integers as arguments, and applies the function to each integer in the list. Test with different functions and lists."
      ],
      "metadata": {
        "id": "8P7I52VEddqZ"
      }
    },
    {
      "cell_type": "code",
      "source": [
        "def funct(func, numbers):\n",
        "    return [func(x) for x in numbers]\n",
        "\n",
        "def square(x):\n",
        "    return x ** 2\n",
        "\n",
        "def double(x):\n",
        "    return x * 2\n",
        "\n",
        "print(funct(square, [1, 2, 3]))\n",
        "print(funct(double, [4, 5, 6]))\n"
      ],
      "metadata": {
        "colab": {
          "base_uri": "https://localhost:8080/"
        },
        "id": "GAP8YtYkdgBB",
        "outputId": "4b653e27-a371-45cf-f51d-d1d4a2588323"
      },
      "execution_count": null,
      "outputs": [
        {
          "output_type": "stream",
          "name": "stdout",
          "text": [
            "[1, 4, 9]\n",
            "[8, 10, 12]\n"
          ]
        }
      ]
    },
    {
      "cell_type": "markdown",
      "source": [
        "### Assignment 15: Function Documentation\n",
        "\n",
        "Define a function with a docstring that explains what the function does, its parameters, and its return value. Print the function's docstring."
      ],
      "metadata": {
        "id": "163KfevpdgXH"
      }
    },
    {
      "cell_type": "code",
      "source": [
        "def multiply(a, b):\n",
        "    \"\"\"\n",
        "    Multiplies two numbers and returns the result.\n",
        "\n",
        "    Parameters:\n",
        "    a : The first number.\n",
        "    b : The second number.\n",
        "\n",
        "    Returns:\n",
        "    The product of a and b.\n",
        "    \"\"\"\n",
        "    return a * b\n",
        "\n",
        "print(multiply.__doc__)\n"
      ],
      "metadata": {
        "colab": {
          "base_uri": "https://localhost:8080/"
        },
        "id": "JMgk8ofDdiQm",
        "outputId": "b36e0474-df79-495d-f2e0-68a775c390cd"
      },
      "execution_count": null,
      "outputs": [
        {
          "output_type": "stream",
          "name": "stdout",
          "text": [
            "\n",
            "    Multiplies two numbers and returns the result.\n",
            "\n",
            "    Parameters:\n",
            "    a : The first number.\n",
            "    b : The second number.\n",
            "\n",
            "    Returns:\n",
            "    The product of a and b.\n",
            "    \n"
          ]
        }
      ]
    }
  ]
}