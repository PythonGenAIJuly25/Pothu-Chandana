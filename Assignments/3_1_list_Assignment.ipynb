{
  "cells": [
    {
      "cell_type": "markdown",
      "metadata": {
        "id": "YzN5MXyj7gTy"
      },
      "source": [
        "# Module 3: Data Structures Assignments\n",
        "## Lesson 3.1: Lists\n",
        "### Assignment 1: Creating and Accessing Lists\n",
        "\n",
        "Create a list of the first 20 positive integers. Print the list.\n"
      ],
      "id": "YzN5MXyj7gTy"
    },
    {
      "cell_type": "code",
      "source": [
        "list_1 = [1,2,3,4,5,6,7,8,9,10,11,12,13,14,15,16,17,18,19,20]\n",
        "\n",
        "print(list_1)"
      ],
      "metadata": {
        "id": "zBbR1-A07_-p",
        "outputId": "08c31e4e-1e96-4e84-ef0d-4aca243f9704",
        "colab": {
          "base_uri": "https://localhost:8080/"
        }
      },
      "id": "zBbR1-A07_-p",
      "execution_count": 6,
      "outputs": [
        {
          "output_type": "stream",
          "name": "stdout",
          "text": [
            "[1, 2, 3, 4, 5, 6, 7, 8, 9, 10, 11, 12, 13, 14, 15, 16, 17, 18, 19, 20]\n"
          ]
        }
      ]
    },
    {
      "cell_type": "markdown",
      "source": [
        "### Assignment 2: Accessing List Elements\n",
        "\n",
        "Print the first, middle, and last elements of the list created in Assignment 1.\n",
        "\n"
      ],
      "metadata": {
        "id": "9ZgKePY58JoW"
      },
      "id": "9ZgKePY58JoW"
    },
    {
      "cell_type": "code",
      "execution_count": 7,
      "metadata": {
        "id": "hUBV5GIy7gT_",
        "outputId": "b90810af-219d-4cf9-ffaa-689b35103362",
        "colab": {
          "base_uri": "https://localhost:8080/"
        }
      },
      "outputs": [
        {
          "output_type": "stream",
          "name": "stdout",
          "text": [
            "first element: 1\n",
            "middle element: 10\n",
            "last element: 20\n"
          ]
        }
      ],
      "source": [
        "print(f'first element: {list_1[0]}')\n",
        "print(f'middle element: {list_1[9]}')\n",
        "print(f'last element: {list_1[19]}')"
      ],
      "id": "hUBV5GIy7gT_"
    },
    {
      "cell_type": "markdown",
      "source": [
        "### Assignment 3: List Slicing\n",
        "\n",
        "Print the first five elements, the last five elements, and the elements from index 5 to 15 of the list created in Assignment 1.\n",
        "\n"
      ],
      "metadata": {
        "id": "UXPMd5u98MuW"
      },
      "id": "UXPMd5u98MuW"
    },
    {
      "cell_type": "code",
      "source": [
        "print(f'first 5 elements: {list_1[0:5]}')\n",
        "print(f'last 5 elements: {list_1[15:20]}')\n",
        "print(f'elements from index 5 to 15: {list_1[5:15]}')"
      ],
      "metadata": {
        "id": "dP0jJc-U8P1Z",
        "outputId": "b6257ad0-460f-4038-88fb-d4a413ca7a51",
        "colab": {
          "base_uri": "https://localhost:8080/"
        }
      },
      "id": "dP0jJc-U8P1Z",
      "execution_count": 9,
      "outputs": [
        {
          "output_type": "stream",
          "name": "stdout",
          "text": [
            "first 5 elements: [1, 2, 3, 4, 5]\n",
            "last 5 elements: [16, 17, 18, 19, 20]\n",
            "elements from index 5 to 15: [6, 7, 8, 9, 10, 11, 12, 13, 14, 15]\n"
          ]
        }
      ]
    },
    {
      "cell_type": "markdown",
      "source": [
        "### Assignment 4: List Comprehensions\n",
        "\n",
        "Create a new list containing the squares of the first 10 positive integers using a list comprehension. Print the new list.\n",
        "\n"
      ],
      "metadata": {
        "id": "vaSQWst78RNK"
      },
      "id": "vaSQWst78RNK"
    },
    {
      "cell_type": "code",
      "source": [
        "list_2 = [x**2 for x in range(1,11)]\n",
        "\n",
        "print(list_2)"
      ],
      "metadata": {
        "id": "GuUh-3yT8Toh",
        "outputId": "6c5a6b08-b259-431a-c7c9-879a1c075126",
        "colab": {
          "base_uri": "https://localhost:8080/"
        }
      },
      "id": "GuUh-3yT8Toh",
      "execution_count": 12,
      "outputs": [
        {
          "output_type": "stream",
          "name": "stdout",
          "text": [
            "[1, 4, 9, 16, 25, 36, 49, 64, 81, 100]\n"
          ]
        }
      ]
    },
    {
      "cell_type": "markdown",
      "source": [
        "### Assignment 5: Filtering Lists\n",
        "\n",
        "Create a new list containing only the even numbers from the list created in Assignment 1 using a list comprehension. Print the new list.\n",
        "\n"
      ],
      "metadata": {
        "id": "FfDun7SS8T_h"
      },
      "id": "FfDun7SS8T_h"
    },
    {
      "cell_type": "code",
      "source": [
        "even_list = [i for i in list_1 if i % 2 == 0 ]\n",
        "print(even_list)"
      ],
      "metadata": {
        "id": "zqerzjJe8WR_",
        "outputId": "57177fc4-be6c-4200-c9c0-0db5921e96e3",
        "colab": {
          "base_uri": "https://localhost:8080/"
        }
      },
      "id": "zqerzjJe8WR_",
      "execution_count": 14,
      "outputs": [
        {
          "output_type": "stream",
          "name": "stdout",
          "text": [
            "[2, 4, 6, 8, 10, 12, 14, 16, 18, 20]\n"
          ]
        }
      ]
    },
    {
      "cell_type": "markdown",
      "source": [
        "### Assignment 6: List Methods\n",
        "\n",
        "Create a list of random numbers and sort it in ascending and descending order. Remove the duplicates from the list and print the modified list.\n",
        "\n"
      ],
      "metadata": {
        "id": "tpwVbl3J8Wod"
      },
      "id": "tpwVbl3J8Wod"
    },
    {
      "cell_type": "code",
      "source": [
        "nums = [10, 23, 56, 23, 78, 99, 23, 20]\n",
        "\n",
        "## ascending order\n",
        "nums.sort()\n",
        "print(f'Ascending order: {nums}')\n",
        "\n",
        "## descending order\n",
        "nums.sort(reverse=True)\n",
        "print(f'Descending order: {nums}')\n",
        "\n",
        "## remove duplicates\n",
        "nums_unique = set(list(nums))\n",
        "print(f'After removing duplicates: {nums_unique}')"
      ],
      "metadata": {
        "id": "ux_kyKHM8ZmA",
        "outputId": "710d5b30-c216-4198-fdea-23b8de05cebe",
        "colab": {
          "base_uri": "https://localhost:8080/"
        }
      },
      "id": "ux_kyKHM8ZmA",
      "execution_count": 22,
      "outputs": [
        {
          "output_type": "stream",
          "name": "stdout",
          "text": [
            "Ascending order: [10, 20, 23, 23, 23, 56, 78, 99]\n",
            "Descending order: [99, 78, 56, 23, 23, 23, 20, 10]\n",
            "After removing duplicates: {99, 10, 78, 20, 23, 56}\n"
          ]
        }
      ]
    },
    {
      "cell_type": "markdown",
      "source": [
        "### Assignment 7: Nested Lists\n",
        "\n",
        "Create a nested list representing a 3x3 matrix and print the matrix. Access and print the element at the second row and third column.\n",
        "\n"
      ],
      "metadata": {
        "id": "i_art_c78Z8d"
      },
      "id": "i_art_c78Z8d"
    },
    {
      "cell_type": "code",
      "source": [
        "list_matrix = [\n",
        "    [1,2,3],\n",
        "    [4,5,6],\n",
        "    [7,8,9]\n",
        "]\n",
        "\n",
        "print(list_matrix)\n",
        "\n",
        "## second row third column element\n",
        "\n",
        "print(f'second row third column element is: {list_matrix[1][2]}')"
      ],
      "metadata": {
        "id": "eEimrQJK8cd2",
        "outputId": "f978ab95-a067-438e-8d11-03be9e16c685",
        "colab": {
          "base_uri": "https://localhost:8080/"
        }
      },
      "id": "eEimrQJK8cd2",
      "execution_count": 34,
      "outputs": [
        {
          "output_type": "stream",
          "name": "stdout",
          "text": [
            "[[1, 2, 3], [4, 5, 6], [7, 8, 9]]\n",
            "second row third column element is: 6\n"
          ]
        }
      ]
    },
    {
      "cell_type": "markdown",
      "source": [
        "### Assignment 8: List of Dictionaries\n",
        "\n",
        "Create a list of dictionaries where each dictionary represents a student with keys 'name' and 'score'. Sort the list of dictionaries by the 'score' in descending order and print the sorted list.\n",
        "\n"
      ],
      "metadata": {
        "id": "CSCjP0Hm8c5Z"
      },
      "id": "CSCjP0Hm8c5Z"
    },
    {
      "cell_type": "code",
      "source": [
        "from ast import Lambda\n",
        "student = [\n",
        "    {'name': 'Chandana', 'score': 99},\n",
        "    {'name': 'Chandu', 'score': 89},\n",
        "    {'name': 'Chandrika', 'score': 59},\n",
        "    {'name': 'Chand', 'score': 79},\n",
        "    {'name': 'Charan', 'score': 69}\n",
        "]\n",
        "\n",
        "print(student)\n",
        "\n",
        "# Sort the list of dictionaries by the 'score' in descending order and print the sorted list.\n",
        "student_sorted = sorted(student, key = lambda x: x['score'], reverse = True)\n",
        "\n",
        "for item in student_sorted:\n",
        "  print(item)\n",
        "\n",
        "#print(student_sorted)"
      ],
      "metadata": {
        "id": "ugWMfBIZ8e8p",
        "outputId": "b0358aac-1d01-4b6f-b1a5-7b3adf103485",
        "colab": {
          "base_uri": "https://localhost:8080/"
        }
      },
      "id": "ugWMfBIZ8e8p",
      "execution_count": 43,
      "outputs": [
        {
          "output_type": "stream",
          "name": "stdout",
          "text": [
            "[{'name': 'Chandana', 'score': 99}, {'name': 'Chandu', 'score': 89}, {'name': 'Chandrika', 'score': 59}, {'name': 'Chand', 'score': 79}, {'name': 'Charan', 'score': 69}]\n",
            "{'name': 'Chandana', 'score': 99}\n",
            "{'name': 'Chandu', 'score': 89}\n",
            "{'name': 'Chand', 'score': 79}\n",
            "{'name': 'Charan', 'score': 69}\n",
            "{'name': 'Chandrika', 'score': 59}\n"
          ]
        }
      ]
    },
    {
      "cell_type": "markdown",
      "source": [
        "### Assignment 9: Matrix Transposition\n",
        "\n",
        "Write a function that takes a 3x3 matrix (nested list) as input and returns its transpose. Print the original and transposed matrices.\n",
        "\n"
      ],
      "metadata": {
        "id": "2eTxwP_Z8gp6"
      },
      "id": "2eTxwP_Z8gp6"
    },
    {
      "cell_type": "code",
      "source": [
        "def transpose_matrix(matrix):\n",
        "  transposed = [[matrix[j][i] for j in range(3)] for i in range(3)]\n",
        "  return transposed\n",
        "\n",
        "matrix = [\n",
        "    [1,2,3],\n",
        "    [4,5,6],\n",
        "    [7,8,9]\n",
        "]\n",
        "\n",
        "print('original matrix is: ')\n",
        "for i in matrix:\n",
        "  print(i)\n",
        "\n",
        "transposed = transpose_matrix(matrix)\n",
        "\n",
        "print(\"transposed matrix is: \")\n",
        "for i in transposed:\n",
        "  print(i)"
      ],
      "metadata": {
        "id": "gbQYfjcp8i0-",
        "outputId": "5582b6ee-9656-43ba-9a78-f511eda158ff",
        "colab": {
          "base_uri": "https://localhost:8080/"
        }
      },
      "id": "gbQYfjcp8i0-",
      "execution_count": 46,
      "outputs": [
        {
          "output_type": "stream",
          "name": "stdout",
          "text": [
            "original matrix is: \n",
            "[1, 2, 3]\n",
            "[4, 5, 6]\n",
            "[7, 8, 9]\n",
            "transposed matrix is: \n",
            "[1, 4, 7]\n",
            "[2, 5, 8]\n",
            "[3, 6, 9]\n"
          ]
        }
      ]
    },
    {
      "cell_type": "markdown",
      "source": [
        "### Assignment 10: Flattening a Nested List\n",
        "\n",
        "Write a function that takes a nested list and flattens it into a single list. Print the original and flattened lists.\n",
        "\n"
      ],
      "metadata": {
        "id": "RekgLunR8jPo"
      },
      "id": "RekgLunR8jPo"
    },
    {
      "cell_type": "code",
      "source": [
        "def flatten_list(nested):\n",
        "    flattened = [item for sub_list in nested for item in sub_list]\n",
        "    return flattened\n",
        "\n",
        "nested = [[1, 2], [3, 4], [5, 6]]\n",
        "\n",
        "flattened = flatten_list(nested)\n",
        "\n",
        "print(\"Original List:\", nested)\n",
        "print(\"Flattened List:\", flattened)\n"
      ],
      "metadata": {
        "id": "Gta437iw8lZA",
        "outputId": "a42458a6-9f19-42a5-f471-6cbdd60a8154",
        "colab": {
          "base_uri": "https://localhost:8080/"
        }
      },
      "id": "Gta437iw8lZA",
      "execution_count": 49,
      "outputs": [
        {
          "output_type": "stream",
          "name": "stdout",
          "text": [
            "Original List: [[1, 2], [3, 4], [5, 6]]\n",
            "Flattened List: [1, 2, 3, 4, 5, 6]\n"
          ]
        }
      ]
    },
    {
      "cell_type": "markdown",
      "source": [
        "### Assignment 11: List Manipulation\n",
        "\n",
        "Create a list of the first 10 positive integers. Remove the elements at indices 2, 4, and 6, and insert the element '99' at index 5. Print the modified list.\n"
      ],
      "metadata": {
        "id": "VH4yIWVs8l8v"
      },
      "id": "VH4yIWVs8l8v"
    },
    {
      "cell_type": "code",
      "source": [
        "numbers = list(range(1, 11))\n",
        "print(f'original list: {numbers}')\n",
        "\n",
        "# Remove elements at indices 6, 4, and 2\n",
        "numbers.remove(3)\n",
        "numbers.remove(5)\n",
        "numbers.remove(7)\n",
        "\n",
        "# Insert 99 at index 5\n",
        "numbers.insert(5, 99)\n",
        "\n",
        "# modified list\n",
        "print(\"Modified List:\", numbers)"
      ],
      "metadata": {
        "id": "Q4YH6xbD8oA2",
        "outputId": "a6bb3b54-7ae2-4fef-a5e7-6cd3c65360f4",
        "colab": {
          "base_uri": "https://localhost:8080/"
        }
      },
      "id": "Q4YH6xbD8oA2",
      "execution_count": 60,
      "outputs": [
        {
          "output_type": "stream",
          "name": "stdout",
          "text": [
            "original list: [1, 2, 3, 4, 5, 6, 7, 8, 9, 10]\n",
            "Modified List: [1, 2, 4, 6, 8, 99, 9, 10]\n"
          ]
        }
      ]
    },
    {
      "cell_type": "markdown",
      "source": [
        "\n",
        "### Assignment 12: List Zipping\n",
        "\n",
        "Create two lists of the same length. Use the `zip` function to combine these lists into a list of tuples and print the result.\n",
        "\n"
      ],
      "metadata": {
        "id": "18iy1SK08oUd"
      },
      "id": "18iy1SK08oUd"
    },
    {
      "cell_type": "code",
      "source": [
        "list1 = [1, 2, 3, 4]\n",
        "list2 = [5, 6, 7 ,8]\n",
        "\n",
        "combined_zip = list(zip(list1, list2))\n",
        "print(combined_zip)"
      ],
      "metadata": {
        "id": "F7mHYhfV8qSy",
        "outputId": "a198e098-1c91-40a4-a2d8-36246f8e66de",
        "colab": {
          "base_uri": "https://localhost:8080/"
        }
      },
      "id": "F7mHYhfV8qSy",
      "execution_count": 62,
      "outputs": [
        {
          "output_type": "stream",
          "name": "stdout",
          "text": [
            "[(1, 5), (2, 6), (3, 7), (4, 8)]\n"
          ]
        }
      ]
    },
    {
      "cell_type": "markdown",
      "source": [
        "### Assignment 13: List Reversal\n",
        "\n",
        "Write a function that takes a list and returns a new list with the elements in reverse order. Print the original and reversed lists.\n",
        "\n"
      ],
      "metadata": {
        "id": "Olk2kztg8qul"
      },
      "id": "Olk2kztg8qul"
    },
    {
      "cell_type": "code",
      "source": [
        "def func(list):\n",
        "  return list[::-1]\n",
        "\n",
        "list = [1,2,3,4,5,6,7]\n",
        "\n",
        "print(\"Original list: \")\n",
        "print(list)\n",
        "\n",
        "print(\"Reversed list: \")\n",
        "reversed_list = func(list)\n",
        "print(reversed_list)\n"
      ],
      "metadata": {
        "id": "dZVwDocj8sdc",
        "outputId": "91276589-10d0-41c3-95fd-431ea563df03",
        "colab": {
          "base_uri": "https://localhost:8080/"
        }
      },
      "id": "dZVwDocj8sdc",
      "execution_count": 66,
      "outputs": [
        {
          "output_type": "stream",
          "name": "stdout",
          "text": [
            "Original list: \n",
            "[1, 2, 3, 4, 5, 6, 7]\n",
            "Reversed list: \n",
            "[7, 6, 5, 4, 3, 2, 1]\n"
          ]
        }
      ]
    },
    {
      "cell_type": "markdown",
      "source": [
        "### Assignment 14: List Rotation\n",
        "\n",
        "Write a function that rotates a list by n positions. Print the original and rotated lists.\n",
        "\n"
      ],
      "metadata": {
        "id": "i319mFik8tJd"
      },
      "id": "i319mFik8tJd"
    },
    {
      "cell_type": "code",
      "source": [
        "def rotate_list(lst, n):\n",
        "    # Rotates the list to the left by n positions\n",
        "    n = n % len(lst)  # Handles cases where n > len(lst)\n",
        "    return lst[n:] + lst[:n]\n",
        "\n",
        "# Example list\n",
        "my_list = [1, 2, 3, 4, 5]\n",
        "\n",
        "# Rotate by 2 positions\n",
        "rotated = rotate_list(my_list, 2)\n",
        "\n",
        "# Print original and rotated lists\n",
        "print(\"Original List:\", my_list)\n",
        "print(\"Rotated List:\", rotated)"
      ],
      "metadata": {
        "id": "ECVioyKG8uhI",
        "outputId": "dcb0d081-98fb-4242-fa32-418e4245c4dc",
        "colab": {
          "base_uri": "https://localhost:8080/"
        }
      },
      "id": "ECVioyKG8uhI",
      "execution_count": 67,
      "outputs": [
        {
          "output_type": "stream",
          "name": "stdout",
          "text": [
            "Original List: [1, 2, 3, 4, 5]\n",
            "Rotated List: [3, 4, 5, 1, 2]\n"
          ]
        }
      ]
    },
    {
      "cell_type": "markdown",
      "source": [
        "### Assignment 15: List Intersection\n",
        "\n",
        "Write a function that takes two lists and returns a new list containing only the elements that are present in both lists. Print the intersected list."
      ],
      "metadata": {
        "id": "FG99o6QT8vAV"
      },
      "id": "FG99o6QT8vAV"
    },
    {
      "cell_type": "code",
      "source": [
        "def intersect_lists(list1, list2):\n",
        "    return [item for item in list1 if item in list2]\n",
        "\n",
        "# Example lists\n",
        "list_a = [1, 2, 3, 4, 5]\n",
        "list_b = [4, 5, 6, 7, 8]\n",
        "\n",
        "# Get intersection\n",
        "common_elements = intersect_lists(list_a, list_b)\n",
        "\n",
        "# Print result\n",
        "print(\"Intersected List:\", common_elements)\n"
      ],
      "metadata": {
        "id": "os2t5kIS8vv6",
        "outputId": "0cbeb122-9cec-4eb8-ff24-23133e354521",
        "colab": {
          "base_uri": "https://localhost:8080/"
        }
      },
      "id": "os2t5kIS8vv6",
      "execution_count": 68,
      "outputs": [
        {
          "output_type": "stream",
          "name": "stdout",
          "text": [
            "Intersected List: [4, 5]\n"
          ]
        }
      ]
    }
  ],
  "metadata": {
    "kernelspec": {
      "display_name": "Python 3",
      "language": "python",
      "name": "python3"
    },
    "language_info": {
      "codemirror_mode": {
        "name": "ipython",
        "version": 3
      },
      "file_extension": ".py",
      "mimetype": "text/x-python",
      "name": "python",
      "nbconvert_exporter": "python",
      "pygments_lexer": "ipython3",
      "version": "3.9.7"
    },
    "colab": {
      "provenance": []
    }
  },
  "nbformat": 4,
  "nbformat_minor": 5
}