{
  "nbformat": 4,
  "nbformat_minor": 0,
  "metadata": {
    "colab": {
      "provenance": []
    },
    "kernelspec": {
      "name": "python3",
      "display_name": "Python 3"
    },
    "language_info": {
      "name": "python"
    }
  },
  "cells": [
    {
      "cell_type": "markdown",
      "source": [
        "## String Formatting (Hacker Rank problem)\n"
      ],
      "metadata": {
        "id": "3NL-hkHnofjR"
      }
    },
    {
      "cell_type": "markdown",
      "source": [
        "Given an integer, n , print the following values for each integer 1 from n to :\n",
        "\n",
        "Decimal\n",
        "\n",
        "Octal\n",
        "\n",
        "Hexadecimal (capitalized)\n",
        "\n",
        "Binary\n",
        "\n",
        "**Function Description**\n",
        "\n",
        "Complete the print_formatted function in the editor below.\n",
        "\n",
        "print_formatted has the following parameters:\n",
        "\n",
        "int number: the maximum value to print\n",
        "\n",
        "**Prints**\n",
        "\n",
        "The four values must be printed on a single line in the order specified above for each  from  to . Each value should be space-padded to match the width of the binary value of  and the values should be separated by a single space.\n",
        "\n",
        "**Input Format**\n",
        "\n",
        "A single integer denoting .\n",
        "\n",
        "**Constraints**\n",
        "\n",
        " 1 <= n <= 99\n",
        "\n",
        "**Sample Input:**\n",
        "\n",
        "17\n",
        "\n",
        "**Sample Output:**\n",
        "\n",
        "    1     1     1     1\n",
        "    2     2     2    10\n",
        "    3     3     3    11\n",
        "    4     4     4   100\n",
        "    5     5     5   101\n",
        "    6     6     6   110\n",
        "    7     7     7   111\n",
        "    8    10     8  1000\n",
        "    9    11     9  1001\n",
        "    10    12     A  1010\n",
        "    11    13     B  1011\n",
        "    12    14     C  1100\n",
        "    13    15     D  1101\n",
        "    14    16     E  1110\n",
        "    15    17     F  1111\n",
        "    16    20    10 10000\n",
        "    17    21    11 10001"
      ],
      "metadata": {
        "id": "tlVU15yqo5iL"
      }
    },
    {
      "cell_type": "code",
      "execution_count": 2,
      "metadata": {
        "colab": {
          "base_uri": "https://localhost:8080/"
        },
        "id": "Ty19V5wyoNcV",
        "outputId": "b12b8453-b8f4-4e0b-8379-76c48a8b21be"
      },
      "outputs": [
        {
          "output_type": "stream",
          "name": "stdout",
          "text": [
            "17\n",
            "1  1  1  1\n",
            "2  2  2  10\n",
            "3  3  3  11\n",
            "4  4  4  100\n",
            "5  5  5  101\n",
            "6  6  6  110\n",
            "7  7  7  111\n",
            "8  10  8  1000\n",
            "9  11  9  1001\n",
            "10  12  a  1010\n",
            "11  13  b  1011\n",
            "12  14  c  1100\n",
            "13  15  d  1101\n",
            "14  16  e  1110\n",
            "15  17  f  1111\n",
            "16  20  10  10000\n",
            "17  21  11  10001\n"
          ]
        }
      ],
      "source": [
        "def print_formatted(number):\n",
        "    for i in range(1, number+1):\n",
        "        print(f'{i}  {oct(i)[2:]}  {hex(i)[2:]}  {bin(i)[2:]}')\n",
        "\n",
        "if __name__ == '__main__':\n",
        "    n = int(input())\n",
        "    print_formatted(n)"
      ]
    },
    {
      "cell_type": "code",
      "source": [],
      "metadata": {
        "id": "Pvv2AJk0oeQy"
      },
      "execution_count": null,
      "outputs": []
    }
  ]
}