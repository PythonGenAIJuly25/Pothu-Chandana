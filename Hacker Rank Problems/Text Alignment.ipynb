{
  "nbformat": 4,
  "nbformat_minor": 0,
  "metadata": {
    "colab": {
      "provenance": []
    },
    "kernelspec": {
      "name": "python3",
      "display_name": "Python 3"
    },
    "language_info": {
      "name": "python"
    }
  },
  "cells": [
    {
      "cell_type": "markdown",
      "source": [
        "## Text Alignment (Hacker Rank Problem)\n"
      ],
      "metadata": {
        "id": "ja2RA5zaqr4n"
      }
    },
    {
      "cell_type": "markdown",
      "source": [
        "In Python, a string of text can be aligned left, right and center.\n",
        "\n",
        "**.ljust(width)**\n",
        "\n",
        "This method returns a left aligned string of length width.\n",
        "\n",
        "        >>> width = 20\n",
        "        >>> print 'HackerRank'.ljust(width,'-')\n",
        "        HackerRank----------  \n",
        "\n",
        "**.center(width)**\n",
        "\n",
        "This method returns a centered string of length width.\n",
        "\n",
        "        >>> width = 20\n",
        "        >>> print 'HackerRank'.center(width,'-')\n",
        "        -----HackerRank-----\n",
        "\n",
        "**.rjust(width)**\n",
        "\n",
        "This method returns a right aligned string of length width.\n",
        "\n",
        "        >>> width = 20\n",
        "        >>> print 'HackerRank'.rjust(width,'-')\n",
        "        ----------HackerRank\n",
        "\n",
        "\n",
        "**Task**\n",
        "\n",
        "You are given a partial code that is used for generating the HackerRank Logo of variable thickness.\n",
        "Your task is to replace the blank (______) with rjust, ljust or center.\n",
        "\n",
        "**Input Format**\n",
        "\n",
        "A single line containing the thickness value for the logo.\n",
        "\n",
        "**Constraints**\n",
        "\n",
        "0 < thickness < 50\n",
        "\n",
        "The thickness must be an odd number.\n",
        "\n",
        "**Output Format**\n",
        "\n",
        "Output the desired logo.\n",
        "\n",
        "**Sample Input**\n",
        "\n",
        "      5\n",
        "\n",
        "**Sample Output**\n",
        "\n",
        "          H    \n",
        "        HHH   \n",
        "        HHHHH  \n",
        "      HHHHHHH\n",
        "      HHHHHHHHH\n",
        "        HHHHH               HHHHH             \n",
        "        HHHHH               HHHHH             \n",
        "        HHHHH               HHHHH             \n",
        "        HHHHH               HHHHH             \n",
        "        HHHHH               HHHHH             \n",
        "        HHHHH               HHHHH             \n",
        "        HHHHHHHHHHHHHHHHHHHHHHHHH   \n",
        "        HHHHHHHHHHHHHHHHHHHHHHHHH   \n",
        "        HHHHHHHHHHHHHHHHHHHHHHHHH   \n",
        "        HHHHH               HHHHH             \n",
        "        HHHHH               HHHHH             \n",
        "        HHHHH               HHHHH             \n",
        "        HHHHH               HHHHH             \n",
        "        HHHHH               HHHHH             \n",
        "        HHHHH               HHHHH             \n",
        "                          HHHHHHHHH\n",
        "                          HHHHHHH  \n",
        "                            HHHHH   \n",
        "                            HHH    \n",
        "                              H"
      ],
      "metadata": {
        "id": "EroN9FFLqsQa"
      }
    },
    {
      "cell_type": "code",
      "execution_count": 1,
      "metadata": {
        "colab": {
          "base_uri": "https://localhost:8080/"
        },
        "id": "68BSHeHrqks2",
        "outputId": "79a0c1da-f555-485e-97ac-3980cb7502a8"
      },
      "outputs": [
        {
          "output_type": "stream",
          "name": "stdout",
          "text": [
            "5\n",
            "    H    \n",
            "   HHH   \n",
            "  HHHHH  \n",
            " HHHHHHH \n",
            "HHHHHHHHH\n",
            "  HHHHH               HHHHH             \n",
            "  HHHHH               HHHHH             \n",
            "  HHHHH               HHHHH             \n",
            "  HHHHH               HHHHH             \n",
            "  HHHHH               HHHHH             \n",
            "  HHHHH               HHHHH             \n",
            "  HHHHHHHHHHHHHHHHHHHHHHHHH   \n",
            "  HHHHHHHHHHHHHHHHHHHHHHHHH   \n",
            "  HHHHHHHHHHHHHHHHHHHHHHHHH   \n",
            "  HHHHH               HHHHH             \n",
            "  HHHHH               HHHHH             \n",
            "  HHHHH               HHHHH             \n",
            "  HHHHH               HHHHH             \n",
            "  HHHHH               HHHHH             \n",
            "  HHHHH               HHHHH             \n",
            "                    HHHHHHHHH \n",
            "                     HHHHHHH  \n",
            "                      HHHHH   \n",
            "                       HHH    \n",
            "                        H     \n"
          ]
        }
      ],
      "source": [
        "thickness = int(input())\n",
        "c = 'H'\n",
        "\n",
        "for i in range(thickness):\n",
        "    print((c * i).rjust(thickness - 1) + c + (c * i).ljust(thickness - 1))\n",
        "\n",
        "for i in range(thickness + 1):\n",
        "    print((c * thickness).center(thickness * 2) + (c * thickness).center(thickness * 6))\n",
        "\n",
        "for i in range((thickness + 1) // 2):\n",
        "    print((c * thickness * 5).center(thickness * 6))\n",
        "\n",
        "for i in range(thickness + 1):\n",
        "    print((c * thickness).center(thickness * 2) + (c * thickness).center(thickness * 6))\n",
        "\n",
        "for i in range(thickness):\n",
        "    print(((c * (thickness - i - 1)).rjust(thickness) + c + (c * (thickness - i - 1)).ljust(thickness)).rjust(thickness * 6))\n"
      ]
    }
  ]
}