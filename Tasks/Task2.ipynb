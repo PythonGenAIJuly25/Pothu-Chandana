{
  "nbformat": 4,
  "nbformat_minor": 0,
  "metadata": {
    "colab": {
      "provenance": []
    },
    "kernelspec": {
      "name": "python3",
      "display_name": "Python 3"
    },
    "language_info": {
      "name": "python"
    }
  },
  "cells": [
    {
      "cell_type": "markdown",
      "source": [
        "**`Task`**\n",
        "\n",
        "## Understand why list cannot be a key in dictionary"
      ],
      "metadata": {
        "id": "_mf3NDLRN4Ky"
      }
    },
    {
      "cell_type": "markdown",
      "source": [
        "## Dictionary\n",
        "\n",
        "- Each Keys are Unique and values can be duplicate\n",
        "\n",
        "- Keys are Immutable and its values are mutable\n",
        "\n",
        "\n",
        "## List\n",
        "\n",
        "- The list are mutable\n",
        "\n",
        "- Ordered and items can be accessed through indexing\n"
      ],
      "metadata": {
        "id": "Ywcsy6zGOKAn"
      }
    },
    {
      "cell_type": "markdown",
      "source": [
        "In Dictionary, keys must have to be unchangeable(immutable), if we make those keys as list, where list can change - we can add, remove, or edit items in them, so if we change a list after using it as a key, Python won't know where to find it.\n",
        "So, Python doesn't allow lists as keys to avoid confusion and errors.\n",
        "\n",
        "Hence, The dictionary can allows any heterogenous vales to hold, like int, float, string, tuple but not list.\n",
        "\n"
      ],
      "metadata": {
        "id": "TMFjHU5xOhoL"
      }
    }
  ]
}