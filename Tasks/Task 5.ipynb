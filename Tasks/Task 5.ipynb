{
  "nbformat": 4,
  "nbformat_minor": 0,
  "metadata": {
    "colab": {
      "provenance": []
    },
    "kernelspec": {
      "name": "python3",
      "display_name": "Python 3"
    },
    "language_info": {
      "name": "python"
    }
  },
  "cells": [
    {
      "cell_type": "markdown",
      "source": [
        "#**`TASK`**"
      ],
      "metadata": {
        "id": "smXw4zJ06v3G"
      }
    },
    {
      "cell_type": "code",
      "execution_count": 2,
      "metadata": {
        "colab": {
          "base_uri": "https://localhost:8080/"
        },
        "id": "pVKL00eYlHep",
        "outputId": "aa17418a-70fa-4238-a828-96181334a1b3"
      },
      "outputs": [
        {
          "output_type": "stream",
          "name": "stdout",
          "text": [
            "Requirement already satisfied: numpy in /usr/local/lib/python3.11/dist-packages (2.0.2)\n"
          ]
        }
      ],
      "source": [
        "!pip install numpy"
      ]
    },
    {
      "cell_type": "code",
      "source": [
        "l1 = [1,2,3,4]\n",
        "l2 = [5,6,7,8,9,10]"
      ],
      "metadata": {
        "id": "6nAk6fDn0brq"
      },
      "execution_count": 5,
      "outputs": []
    },
    {
      "cell_type": "code",
      "source": [
        "res = []\n",
        "for i in range(min(len(l1), len(l2))):\n",
        "    res.append(l1[i]+l2[i])\n",
        "\n",
        "\n",
        "print(res)"
      ],
      "metadata": {
        "colab": {
          "base_uri": "https://localhost:8080/"
        },
        "id": "WGs9RFr30bDZ",
        "outputId": "bfd9180d-e466-4408-f10f-4f6406d7510b"
      },
      "execution_count": 6,
      "outputs": [
        {
          "output_type": "stream",
          "name": "stdout",
          "text": [
            "[6, 8, 10, 12]\n"
          ]
        }
      ]
    },
    {
      "cell_type": "markdown",
      "source": [
        "# TASK: using zip function"
      ],
      "metadata": {
        "id": "agAuYNfh1lB1"
      }
    },
    {
      "cell_type": "code",
      "source": [
        "res1 = []\n",
        "for a, b in zip(l1, l2):\n",
        "   res1.append(a + b)\n",
        "\n",
        "print(res1)"
      ],
      "metadata": {
        "colab": {
          "base_uri": "https://localhost:8080/"
        },
        "id": "KWDz9Puv0i_N",
        "outputId": "860f5d36-22f5-4b07-e273-5e21b34c33af"
      },
      "execution_count": 9,
      "outputs": [
        {
          "output_type": "stream",
          "name": "stdout",
          "text": [
            "[6, 8, 10, 12]\n"
          ]
        }
      ]
    },
    {
      "cell_type": "markdown",
      "source": [
        "# TASK : using list comprehension"
      ],
      "metadata": {
        "id": "4cBD61AP1mRl"
      }
    },
    {
      "cell_type": "code",
      "source": [
        "res2 = [a + b for a,b in zip(l1, l2)]\n",
        "res2"
      ],
      "metadata": {
        "colab": {
          "base_uri": "https://localhost:8080/"
        },
        "id": "sS5RETCb1oYu",
        "outputId": "f9d76e8b-0c60-41bc-fd8d-e7849caee244"
      },
      "execution_count": 10,
      "outputs": [
        {
          "output_type": "execute_result",
          "data": {
            "text/plain": [
              "[6, 8, 10, 12]"
            ]
          },
          "metadata": {},
          "execution_count": 10
        }
      ]
    }
  ]
}