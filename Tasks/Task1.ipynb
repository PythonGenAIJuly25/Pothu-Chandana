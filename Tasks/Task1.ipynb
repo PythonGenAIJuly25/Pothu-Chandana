{
  "nbformat": 4,
  "nbformat_minor": 0,
  "metadata": {
    "colab": {
      "provenance": []
    },
    "kernelspec": {
      "name": "python3",
      "display_name": "Python 3"
    },
    "language_info": {
      "name": "python"
    }
  },
  "cells": [
    {
      "cell_type": "markdown",
      "source": [
        "**`Task 1`**\n",
        "\n",
        "# Build the simple Calculator"
      ],
      "metadata": {
        "id": "MqGQtFHsMgmM"
      }
    },
    {
      "cell_type": "code",
      "source": [
        "num1 = int(input(\"Enter the number1: \"))\n",
        "num2 = int(input(\"Enter the number2: \"))\n",
        "\n",
        "operator = input(\"Choose an Operator (+, -, *, /, %): \")\n",
        "\n",
        "if operator == '+':\n",
        "    print(f'Sum of {num1} and {num2} is: {num1 + num2}')\n",
        "elif operator == '-':\n",
        "    print(f'Subtraction of {num1} and {num2} is: {num1 - num2}')\n",
        "elif operator == '*':\n",
        "    print(f'Product of {num1} and {num2} is: {num1 * num2}')\n",
        "elif operator == '/':\n",
        "    if num2 != 0:\n",
        "        print(f'Division of {num1} by {num2} is: {num1 / num2}')\n",
        "    else:\n",
        "        print(\"Error: Division by zero is not allowed.\")\n",
        "elif operator == '%':\n",
        "    if num2 != 0:\n",
        "        print(f'Modulus of {num1} and {num2} is: {num1 % num2}')\n",
        "    else:\n",
        "        print(\"Error: Division by zero is not allowed.\")\n",
        "else:\n",
        "    print(\"Invalid operator\")"
      ],
      "metadata": {
        "colab": {
          "base_uri": "https://localhost:8080/"
        },
        "id": "CEPhVa6LMn45",
        "outputId": "279c8de3-9a6b-484c-a0a0-3bb1d08854d2"
      },
      "execution_count": 3,
      "outputs": [
        {
          "output_type": "stream",
          "name": "stdout",
          "text": [
            "Enter the number1: 55\n",
            "Enter the number2: 13\n",
            "Choose an Operator (+, -, *, /, %): /\n",
            "Division of 55 by 13 is: 4.230769230769231\n"
          ]
        }
      ]
    }
  ]
}