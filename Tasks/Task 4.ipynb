{
  "nbformat": 4,
  "nbformat_minor": 0,
  "metadata": {
    "colab": {
      "provenance": []
    },
    "kernelspec": {
      "name": "python3",
      "display_name": "Python 3"
    },
    "language_info": {
      "name": "python"
    }
  },
  "cells": [
    {
      "cell_type": "markdown",
      "source": [
        "#**`TASK:`**"
      ],
      "metadata": {
        "id": "j8r3_Dx4GCyU"
      }
    },
    {
      "cell_type": "markdown",
      "source": [
        "## Factorial of a number using reduce function in python"
      ],
      "metadata": {
        "id": "TchdRi6tF-pR"
      }
    },
    {
      "cell_type": "code",
      "source": [
        "from functools import reduce\n",
        "\n",
        "def fact(num):\n",
        "  if num == 0 or num == 1:\n",
        "    return 1\n",
        "  else:\n",
        "    return reduce(lambda x,y: x*y, range(1,num+1))\n",
        "\n",
        "fact(13)"
      ],
      "metadata": {
        "colab": {
          "base_uri": "https://localhost:8080/"
        },
        "id": "qyqk9RWvF_s3",
        "outputId": "3071c191-e8a0-4edf-b8ff-cb1897366bc6"
      },
      "execution_count": 11,
      "outputs": [
        {
          "output_type": "execute_result",
          "data": {
            "text/plain": [
              "6227020800"
            ]
          },
          "metadata": {},
          "execution_count": 11
        }
      ]
    },
    {
      "cell_type": "markdown",
      "source": [
        "## # randomly arrange a bunch of students into groups of 5\n",
        "\n",
        "## idea: 40 student name -> 5 groups -> randomly assign students into each group."
      ],
      "metadata": {
        "id": "vJcR84czIfcu"
      }
    },
    {
      "cell_type": "code",
      "source": [
        "import random\n",
        "\n",
        "students = [f\"Student{i}\" for i in range(1, 41)]\n",
        "\n",
        "random.shuffle(students)\n",
        "\n",
        "group_size = 8\n",
        "num_groups = 5\n",
        "\n",
        "for i in range(num_groups):\n",
        "    group = students[i * group_size:(i + 1) * group_size]\n",
        "    print(f\"Group {i+1}: {group}\")"
      ],
      "metadata": {
        "colab": {
          "base_uri": "https://localhost:8080/"
        },
        "id": "m-_HACCrIf0o",
        "outputId": "595f3b73-617a-442a-e881-d458e18784fe"
      },
      "execution_count": 16,
      "outputs": [
        {
          "output_type": "stream",
          "name": "stdout",
          "text": [
            "Group 1: ['Student6', 'Student21', 'Student18', 'Student24', 'Student15', 'Student11', 'Student25', 'Student34']\n",
            "Group 2: ['Student19', 'Student10', 'Student1', 'Student27', 'Student14', 'Student33', 'Student7', 'Student29']\n",
            "Group 3: ['Student28', 'Student5', 'Student39', 'Student22', 'Student16', 'Student3', 'Student31', 'Student8']\n",
            "Group 4: ['Student35', 'Student38', 'Student13', 'Student40', 'Student23', 'Student17', 'Student32', 'Student20']\n",
            "Group 5: ['Student30', 'Student36', 'Student12', 'Student4', 'Student2', 'Student9', 'Student26', 'Student37']\n"
          ]
        }
      ]
    }
  ]
}