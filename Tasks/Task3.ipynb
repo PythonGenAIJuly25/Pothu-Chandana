{
  "nbformat": 4,
  "nbformat_minor": 0,
  "metadata": {
    "colab": {
      "provenance": []
    },
    "kernelspec": {
      "name": "python3",
      "display_name": "Python 3"
    },
    "language_info": {
      "name": "python"
    }
  },
  "cells": [
    {
      "cell_type": "markdown",
      "source": [
        "## **Tasks**"
      ],
      "metadata": {
        "id": "U3yoX2uYuVI8"
      }
    },
    {
      "cell_type": "markdown",
      "source": [
        "\n",
        "\n",
        "## Write the python code to check if the given year is leap year or not"
      ],
      "metadata": {
        "id": "7Cu_fUmasy-A"
      }
    },
    {
      "cell_type": "code",
      "source": [
        "year = int(input(\"Enter the year: \"))\n",
        "\n",
        "if (year %4 == 0 and year % 100 != 0) or (year % 400 == 0):\n",
        "  print(f'{year} is leap year')\n",
        "else:\n",
        "  print(f'{year} is not a leap year')"
      ],
      "metadata": {
        "colab": {
          "base_uri": "https://localhost:8080/"
        },
        "id": "8gEGQQV6s40n",
        "outputId": "aefb9430-646f-44b5-e64d-10db35b8e2c2"
      },
      "execution_count": 1,
      "outputs": [
        {
          "output_type": "stream",
          "name": "stdout",
          "text": [
            "Enter the year: 2024\n",
            "2024 is leap year\n"
          ]
        }
      ]
    },
    {
      "cell_type": "markdown",
      "source": [
        "\n",
        "## Remove the duplicates from the list and return the duplicates"
      ],
      "metadata": {
        "id": "-PwwuOY3uAvJ"
      }
    },
    {
      "cell_type": "code",
      "source": [
        "list1 = [1, 2, 3, 4, 2, 3, 1]\n",
        "\n",
        "unique = []\n",
        "duplicates = []\n",
        "\n",
        "for item in list1:\n",
        "  if item not in unique:\n",
        "    unique.append(item)\n",
        "  elif item not in duplicates:\n",
        "    duplicates.append(item)\n",
        "\n",
        "print(f'Unique items: {unique}')\n",
        "print(f'Duplicates: {duplicates}')"
      ],
      "metadata": {
        "colab": {
          "base_uri": "https://localhost:8080/"
        },
        "id": "NJxkj7XRuR-l",
        "outputId": "72539a92-6834-4887-8bf6-ef4e176a42ca"
      },
      "execution_count": 2,
      "outputs": [
        {
          "output_type": "stream",
          "name": "stdout",
          "text": [
            "Unique items: [1, 2, 3, 4]\n",
            "Duplicates: [2, 3, 1]\n"
          ]
        }
      ]
    }
  ]
}